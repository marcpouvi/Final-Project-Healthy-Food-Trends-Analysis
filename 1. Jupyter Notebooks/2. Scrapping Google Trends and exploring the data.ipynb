{
 "cells": [
  {
   "cell_type": "code",
   "execution_count": 1,
   "metadata": {},
   "outputs": [],
   "source": [
    "import pandas as pd\n",
    "import seaborn as sns\n",
    "import matplotlib.pyplot as plt\n",
    "%matplotlib inline\n",
    "import numpy as np\n",
    "import pandas_profiling\n",
    "from ast import literal_eval"
   ]
  },
  {
   "cell_type": "markdown",
   "metadata": {},
   "source": [
    "# Analysis H0 and Scrapping Google Trends"
   ]
  },
  {
   "cell_type": "markdown",
   "metadata": {},
   "source": [
    "Hypothesis: Between the years of 2009 and 2018 the number of mentions of tofu recipes increased significantly\n",
    "\n",
    "H0: median random sample = median population\n",
    "\n",
    "\n",
    "Sources justifying whi analyzing tofu: \n",
    "https://www.foodnavigator.com/Article/2020/04/28/Heura-CEO-on-the-future-of-plant-based-R-D-Clean-label-nutrition-and-price\n",
    "https://www.foodnavigator-usa.com/Article/2020/08/03/Tofu-s-time-has-come-says-Nasoya-It-s-the-simplest-form-of-plant-based-protein-on-the-market"
   ]
  },
  {
   "cell_type": "code",
   "execution_count": 2,
   "metadata": {},
   "outputs": [],
   "source": [
    "recipes = pd.read_csv(r'\\Users\\marcp\\Desktop\\Ironhack\\Clases\\FINAL PROJECT\\Project 2\\clean_RAW_recipes.csv')"
   ]
  },
  {
   "cell_type": "code",
   "execution_count": 3,
   "metadata": {},
   "outputs": [
    {
     "data": {
      "text/html": [
       "<div>\n",
       "<style scoped>\n",
       "    .dataframe tbody tr th:only-of-type {\n",
       "        vertical-align: middle;\n",
       "    }\n",
       "\n",
       "    .dataframe tbody tr th {\n",
       "        vertical-align: top;\n",
       "    }\n",
       "\n",
       "    .dataframe thead th {\n",
       "        text-align: right;\n",
       "    }\n",
       "</style>\n",
       "<table border=\"1\" class=\"dataframe\">\n",
       "  <thead>\n",
       "    <tr style=\"text-align: right;\">\n",
       "      <th></th>\n",
       "      <th>Unnamed: 0</th>\n",
       "      <th>name</th>\n",
       "      <th>id</th>\n",
       "      <th>minutes</th>\n",
       "      <th>submitted</th>\n",
       "      <th>tags</th>\n",
       "      <th>n_steps</th>\n",
       "      <th>steps</th>\n",
       "      <th>description</th>\n",
       "      <th>ingredients</th>\n",
       "      <th>n_ingredients</th>\n",
       "      <th>year</th>\n",
       "      <th>calories</th>\n",
       "      <th>total_fat</th>\n",
       "      <th>sugar</th>\n",
       "      <th>sodium</th>\n",
       "      <th>protein</th>\n",
       "      <th>saturated_fat</th>\n",
       "      <th>carbohydrates</th>\n",
       "      <th>healthy</th>\n",
       "    </tr>\n",
       "  </thead>\n",
       "  <tbody>\n",
       "    <tr>\n",
       "      <th>0</th>\n",
       "      <td>115</td>\n",
       "      <td>1 in canada chocolate chip cookies</td>\n",
       "      <td>453467</td>\n",
       "      <td>45</td>\n",
       "      <td>2011-04-11</td>\n",
       "      <td>['60-minutes-or-less', 'time-to-make', 'cuisin...</td>\n",
       "      <td>12</td>\n",
       "      <td>['pre-heat oven the 350 degrees f', 'in a mixi...</td>\n",
       "      <td>this is the recipe that we use at my school ca...</td>\n",
       "      <td>['white sugar', 'brown sugar', 'salt', 'margar...</td>\n",
       "      <td>11</td>\n",
       "      <td>2011</td>\n",
       "      <td>595.1</td>\n",
       "      <td>46.0</td>\n",
       "      <td>211.0</td>\n",
       "      <td>22.0</td>\n",
       "      <td>13.0</td>\n",
       "      <td>51.0</td>\n",
       "      <td>26.0</td>\n",
       "      <td>False</td>\n",
       "    </tr>\n",
       "    <tr>\n",
       "      <th>1</th>\n",
       "      <td>125</td>\n",
       "      <td>2000 meatloaf</td>\n",
       "      <td>475785</td>\n",
       "      <td>90</td>\n",
       "      <td>2012-03-06</td>\n",
       "      <td>['time-to-make', 'course', 'main-ingredient', ...</td>\n",
       "      <td>17</td>\n",
       "      <td>['pan fry bacon , and set aside on a paper tow...</td>\n",
       "      <td>ready, set, cook! special edition contest entr...</td>\n",
       "      <td>['meatloaf mixture', 'unsmoked bacon', 'goat c...</td>\n",
       "      <td>13</td>\n",
       "      <td>2012</td>\n",
       "      <td>267.0</td>\n",
       "      <td>30.0</td>\n",
       "      <td>12.0</td>\n",
       "      <td>12.0</td>\n",
       "      <td>29.0</td>\n",
       "      <td>48.0</td>\n",
       "      <td>2.0</td>\n",
       "      <td>False</td>\n",
       "    </tr>\n",
       "    <tr>\n",
       "      <th>2</th>\n",
       "      <td>135</td>\n",
       "      <td>blepandekager   danish   apple pancakes</td>\n",
       "      <td>503475</td>\n",
       "      <td>50</td>\n",
       "      <td>2013-07-08</td>\n",
       "      <td>['danish', '60-minutes-or-less', 'time-to-make...</td>\n",
       "      <td>10</td>\n",
       "      <td>['beat the eggs lightly and add the milk', 'co...</td>\n",
       "      <td>this recipe has been posted here for play in z...</td>\n",
       "      <td>['eggs', 'milk', 'flour', 'sugar', 'salt', 'cr...</td>\n",
       "      <td>10</td>\n",
       "      <td>2013</td>\n",
       "      <td>358.2</td>\n",
       "      <td>30.0</td>\n",
       "      <td>62.0</td>\n",
       "      <td>14.0</td>\n",
       "      <td>19.0</td>\n",
       "      <td>54.0</td>\n",
       "      <td>12.0</td>\n",
       "      <td>False</td>\n",
       "    </tr>\n",
       "    <tr>\n",
       "      <th>3</th>\n",
       "      <td>136</td>\n",
       "      <td>lplermagrone</td>\n",
       "      <td>522861</td>\n",
       "      <td>50</td>\n",
       "      <td>2015-07-25</td>\n",
       "      <td>['60-minutes-or-less', 'time-to-make', 'course...</td>\n",
       "      <td>10</td>\n",
       "      <td>['a variant on the theme: in the swiss canton ...</td>\n",
       "      <td>älplermagronethe name doesn't translate perfec...</td>\n",
       "      <td>['milk', 'salt', 'macaroni', 'cheese', 'fresh ...</td>\n",
       "      <td>8</td>\n",
       "      <td>2015</td>\n",
       "      <td>1003.8</td>\n",
       "      <td>72.0</td>\n",
       "      <td>21.0</td>\n",
       "      <td>103.0</td>\n",
       "      <td>69.0</td>\n",
       "      <td>143.0</td>\n",
       "      <td>37.0</td>\n",
       "      <td>False</td>\n",
       "    </tr>\n",
       "    <tr>\n",
       "      <th>4</th>\n",
       "      <td>137</td>\n",
       "      <td>lplermagrone  herdsman s macaroni</td>\n",
       "      <td>457136</td>\n",
       "      <td>40</td>\n",
       "      <td>2011-05-23</td>\n",
       "      <td>['60-minutes-or-less', 'time-to-make', 'course...</td>\n",
       "      <td>14</td>\n",
       "      <td>['heat the oven to 100 c', 'boil potatoes in a...</td>\n",
       "      <td>basic ingredients for swiss alpine macaroni in...</td>\n",
       "      <td>['potato', 'salt water', 'macaroni', 'heavy cr...</td>\n",
       "      <td>10</td>\n",
       "      <td>2011</td>\n",
       "      <td>708.6</td>\n",
       "      <td>52.0</td>\n",
       "      <td>19.0</td>\n",
       "      <td>24.0</td>\n",
       "      <td>46.0</td>\n",
       "      <td>104.0</td>\n",
       "      <td>25.0</td>\n",
       "      <td>False</td>\n",
       "    </tr>\n",
       "    <tr>\n",
       "      <th>...</th>\n",
       "      <td>...</td>\n",
       "      <td>...</td>\n",
       "      <td>...</td>\n",
       "      <td>...</td>\n",
       "      <td>...</td>\n",
       "      <td>...</td>\n",
       "      <td>...</td>\n",
       "      <td>...</td>\n",
       "      <td>...</td>\n",
       "      <td>...</td>\n",
       "      <td>...</td>\n",
       "      <td>...</td>\n",
       "      <td>...</td>\n",
       "      <td>...</td>\n",
       "      <td>...</td>\n",
       "      <td>...</td>\n",
       "      <td>...</td>\n",
       "      <td>...</td>\n",
       "      <td>...</td>\n",
       "      <td>...</td>\n",
       "    </tr>\n",
       "    <tr>\n",
       "      <th>34487</th>\n",
       "      <td>231606</td>\n",
       "      <td>zurich ragout  zrcher geschnetzeltes</td>\n",
       "      <td>455538</td>\n",
       "      <td>35</td>\n",
       "      <td>2011-05-09</td>\n",
       "      <td>['60-minutes-or-less', 'time-to-make', 'course...</td>\n",
       "      <td>11</td>\n",
       "      <td>['melt 1 tablespoon clarified butter over high...</td>\n",
       "      <td>i originally found this on the about.com websi...</td>\n",
       "      <td>['veal', 'veal kidneys', 'clarified butter', '...</td>\n",
       "      <td>13</td>\n",
       "      <td>2011</td>\n",
       "      <td>278.8</td>\n",
       "      <td>22.0</td>\n",
       "      <td>5.0</td>\n",
       "      <td>12.0</td>\n",
       "      <td>38.0</td>\n",
       "      <td>39.0</td>\n",
       "      <td>2.0</td>\n",
       "      <td>False</td>\n",
       "    </tr>\n",
       "    <tr>\n",
       "      <th>34488</th>\n",
       "      <td>231612</td>\n",
       "      <td>zurie s tomato and cream cheese tart</td>\n",
       "      <td>400445</td>\n",
       "      <td>60</td>\n",
       "      <td>2009-11-20</td>\n",
       "      <td>['60-minutes-or-less', 'time-to-make', 'course...</td>\n",
       "      <td>13</td>\n",
       "      <td>['heat oven to 420 deg f / 210 deg c', 'line a...</td>\n",
       "      <td>i'd like to dedicate this recipe to molly53. w...</td>\n",
       "      <td>['pastry dough', 'cream cheese', 'salt', 'gree...</td>\n",
       "      <td>13</td>\n",
       "      <td>2009</td>\n",
       "      <td>648.6</td>\n",
       "      <td>73.0</td>\n",
       "      <td>59.0</td>\n",
       "      <td>19.0</td>\n",
       "      <td>24.0</td>\n",
       "      <td>109.0</td>\n",
       "      <td>15.0</td>\n",
       "      <td>False</td>\n",
       "    </tr>\n",
       "    <tr>\n",
       "      <th>34489</th>\n",
       "      <td>231615</td>\n",
       "      <td>zuvers barbecue sauce</td>\n",
       "      <td>381216</td>\n",
       "      <td>30</td>\n",
       "      <td>2009-07-13</td>\n",
       "      <td>['30-minutes-or-less', 'time-to-make', 'course...</td>\n",
       "      <td>6</td>\n",
       "      <td>['mix first 5 ingredients in sauce pan', 'turn...</td>\n",
       "      <td>this barbecue sauce is great on ribs, chicken ...</td>\n",
       "      <td>['molasses', 'ketchup', 'apple cider vinegar',...</td>\n",
       "      <td>12</td>\n",
       "      <td>2009</td>\n",
       "      <td>595.5</td>\n",
       "      <td>1.0</td>\n",
       "      <td>527.0</td>\n",
       "      <td>62.0</td>\n",
       "      <td>5.0</td>\n",
       "      <td>0.0</td>\n",
       "      <td>50.0</td>\n",
       "      <td>False</td>\n",
       "    </tr>\n",
       "    <tr>\n",
       "      <th>34490</th>\n",
       "      <td>231627</td>\n",
       "      <td>zwiebelwhe  swiss onion tart</td>\n",
       "      <td>410985</td>\n",
       "      <td>165</td>\n",
       "      <td>2010-01-30</td>\n",
       "      <td>['weeknight', 'time-to-make', 'course', 'main-...</td>\n",
       "      <td>38</td>\n",
       "      <td>['crust:', 'pulse flour , baking powder , and ...</td>\n",
       "      <td>a delicious bacon-studded tart.</td>\n",
       "      <td>['flour', 'baking powder', 'kosher salt', 'uns...</td>\n",
       "      <td>13</td>\n",
       "      <td>2010</td>\n",
       "      <td>440.1</td>\n",
       "      <td>49.0</td>\n",
       "      <td>15.0</td>\n",
       "      <td>10.0</td>\n",
       "      <td>22.0</td>\n",
       "      <td>90.0</td>\n",
       "      <td>9.0</td>\n",
       "      <td>False</td>\n",
       "    </tr>\n",
       "    <tr>\n",
       "      <th>34491</th>\n",
       "      <td>231632</td>\n",
       "      <td>zydeco soup</td>\n",
       "      <td>486161</td>\n",
       "      <td>60</td>\n",
       "      <td>2012-08-29</td>\n",
       "      <td>['ham', '60-minutes-or-less', 'time-to-make', ...</td>\n",
       "      <td>7</td>\n",
       "      <td>['heat oil in a 4-quart dutch oven', 'add cele...</td>\n",
       "      <td>this is a delicious soup that i originally fou...</td>\n",
       "      <td>['celery', 'onion', 'green sweet pepper', 'gar...</td>\n",
       "      <td>22</td>\n",
       "      <td>2012</td>\n",
       "      <td>415.2</td>\n",
       "      <td>26.0</td>\n",
       "      <td>34.0</td>\n",
       "      <td>26.0</td>\n",
       "      <td>44.0</td>\n",
       "      <td>21.0</td>\n",
       "      <td>15.0</td>\n",
       "      <td>False</td>\n",
       "    </tr>\n",
       "  </tbody>\n",
       "</table>\n",
       "<p>34492 rows × 20 columns</p>\n",
       "</div>"
      ],
      "text/plain": [
       "       Unnamed: 0                                     name      id  minutes  \\\n",
       "0             115       1 in canada chocolate chip cookies  453467       45   \n",
       "1             125                            2000 meatloaf  475785       90   \n",
       "2             135  blepandekager   danish   apple pancakes  503475       50   \n",
       "3             136                             lplermagrone  522861       50   \n",
       "4             137        lplermagrone  herdsman s macaroni  457136       40   \n",
       "...           ...                                      ...     ...      ...   \n",
       "34487      231606     zurich ragout  zrcher geschnetzeltes  455538       35   \n",
       "34488      231612     zurie s tomato and cream cheese tart  400445       60   \n",
       "34489      231615                    zuvers barbecue sauce  381216       30   \n",
       "34490      231627             zwiebelwhe  swiss onion tart  410985      165   \n",
       "34491      231632                              zydeco soup  486161       60   \n",
       "\n",
       "        submitted                                               tags  n_steps  \\\n",
       "0      2011-04-11  ['60-minutes-or-less', 'time-to-make', 'cuisin...       12   \n",
       "1      2012-03-06  ['time-to-make', 'course', 'main-ingredient', ...       17   \n",
       "2      2013-07-08  ['danish', '60-minutes-or-less', 'time-to-make...       10   \n",
       "3      2015-07-25  ['60-minutes-or-less', 'time-to-make', 'course...       10   \n",
       "4      2011-05-23  ['60-minutes-or-less', 'time-to-make', 'course...       14   \n",
       "...           ...                                                ...      ...   \n",
       "34487  2011-05-09  ['60-minutes-or-less', 'time-to-make', 'course...       11   \n",
       "34488  2009-11-20  ['60-minutes-or-less', 'time-to-make', 'course...       13   \n",
       "34489  2009-07-13  ['30-minutes-or-less', 'time-to-make', 'course...        6   \n",
       "34490  2010-01-30  ['weeknight', 'time-to-make', 'course', 'main-...       38   \n",
       "34491  2012-08-29  ['ham', '60-minutes-or-less', 'time-to-make', ...        7   \n",
       "\n",
       "                                                   steps  \\\n",
       "0      ['pre-heat oven the 350 degrees f', 'in a mixi...   \n",
       "1      ['pan fry bacon , and set aside on a paper tow...   \n",
       "2      ['beat the eggs lightly and add the milk', 'co...   \n",
       "3      ['a variant on the theme: in the swiss canton ...   \n",
       "4      ['heat the oven to 100 c', 'boil potatoes in a...   \n",
       "...                                                  ...   \n",
       "34487  ['melt 1 tablespoon clarified butter over high...   \n",
       "34488  ['heat oven to 420 deg f / 210 deg c', 'line a...   \n",
       "34489  ['mix first 5 ingredients in sauce pan', 'turn...   \n",
       "34490  ['crust:', 'pulse flour , baking powder , and ...   \n",
       "34491  ['heat oil in a 4-quart dutch oven', 'add cele...   \n",
       "\n",
       "                                             description  \\\n",
       "0      this is the recipe that we use at my school ca...   \n",
       "1      ready, set, cook! special edition contest entr...   \n",
       "2      this recipe has been posted here for play in z...   \n",
       "3      älplermagronethe name doesn't translate perfec...   \n",
       "4      basic ingredients for swiss alpine macaroni in...   \n",
       "...                                                  ...   \n",
       "34487  i originally found this on the about.com websi...   \n",
       "34488  i'd like to dedicate this recipe to molly53. w...   \n",
       "34489  this barbecue sauce is great on ribs, chicken ...   \n",
       "34490                    a delicious bacon-studded tart.   \n",
       "34491  this is a delicious soup that i originally fou...   \n",
       "\n",
       "                                             ingredients  n_ingredients  year  \\\n",
       "0      ['white sugar', 'brown sugar', 'salt', 'margar...             11  2011   \n",
       "1      ['meatloaf mixture', 'unsmoked bacon', 'goat c...             13  2012   \n",
       "2      ['eggs', 'milk', 'flour', 'sugar', 'salt', 'cr...             10  2013   \n",
       "3      ['milk', 'salt', 'macaroni', 'cheese', 'fresh ...              8  2015   \n",
       "4      ['potato', 'salt water', 'macaroni', 'heavy cr...             10  2011   \n",
       "...                                                  ...            ...   ...   \n",
       "34487  ['veal', 'veal kidneys', 'clarified butter', '...             13  2011   \n",
       "34488  ['pastry dough', 'cream cheese', 'salt', 'gree...             13  2009   \n",
       "34489  ['molasses', 'ketchup', 'apple cider vinegar',...             12  2009   \n",
       "34490  ['flour', 'baking powder', 'kosher salt', 'uns...             13  2010   \n",
       "34491  ['celery', 'onion', 'green sweet pepper', 'gar...             22  2012   \n",
       "\n",
       "       calories  total_fat  sugar  sodium  protein  saturated_fat  \\\n",
       "0         595.1       46.0  211.0    22.0     13.0           51.0   \n",
       "1         267.0       30.0   12.0    12.0     29.0           48.0   \n",
       "2         358.2       30.0   62.0    14.0     19.0           54.0   \n",
       "3        1003.8       72.0   21.0   103.0     69.0          143.0   \n",
       "4         708.6       52.0   19.0    24.0     46.0          104.0   \n",
       "...         ...        ...    ...     ...      ...            ...   \n",
       "34487     278.8       22.0    5.0    12.0     38.0           39.0   \n",
       "34488     648.6       73.0   59.0    19.0     24.0          109.0   \n",
       "34489     595.5        1.0  527.0    62.0      5.0            0.0   \n",
       "34490     440.1       49.0   15.0    10.0     22.0           90.0   \n",
       "34491     415.2       26.0   34.0    26.0     44.0           21.0   \n",
       "\n",
       "       carbohydrates  healthy  \n",
       "0               26.0    False  \n",
       "1                2.0    False  \n",
       "2               12.0    False  \n",
       "3               37.0    False  \n",
       "4               25.0    False  \n",
       "...              ...      ...  \n",
       "34487            2.0    False  \n",
       "34488           15.0    False  \n",
       "34489           50.0    False  \n",
       "34490            9.0    False  \n",
       "34491           15.0    False  \n",
       "\n",
       "[34492 rows x 20 columns]"
      ]
     },
     "execution_count": 3,
     "metadata": {},
     "output_type": "execute_result"
    }
   ],
   "source": [
    "recipes"
   ]
  },
  {
   "cell_type": "code",
   "execution_count": 4,
   "metadata": {},
   "outputs": [
    {
     "data": {
      "text/plain": [
       "Unnamed: 0         int64\n",
       "name              object\n",
       "id                 int64\n",
       "minutes            int64\n",
       "submitted         object\n",
       "tags              object\n",
       "n_steps            int64\n",
       "steps             object\n",
       "description       object\n",
       "ingredients       object\n",
       "n_ingredients      int64\n",
       "year               int64\n",
       "calories         float64\n",
       "total_fat        float64\n",
       "sugar            float64\n",
       "sodium           float64\n",
       "protein          float64\n",
       "saturated_fat    float64\n",
       "carbohydrates    float64\n",
       "healthy             bool\n",
       "dtype: object"
      ]
     },
     "execution_count": 4,
     "metadata": {},
     "output_type": "execute_result"
    }
   ],
   "source": [
    "recipes.dtypes"
   ]
  },
  {
   "cell_type": "code",
   "execution_count": 5,
   "metadata": {},
   "outputs": [],
   "source": [
    "recipes.drop(['healthy'], axis = 1, inplace = True)"
   ]
  },
  {
   "cell_type": "markdown",
   "metadata": {},
   "source": [
    "# 1.1 Exploring recipes w/ kale ingredient"
   ]
  },
  {
   "cell_type": "code",
   "execution_count": 6,
   "metadata": {},
   "outputs": [
    {
     "data": {
      "text/html": [
       "<div>\n",
       "<style scoped>\n",
       "    .dataframe tbody tr th:only-of-type {\n",
       "        vertical-align: middle;\n",
       "    }\n",
       "\n",
       "    .dataframe tbody tr th {\n",
       "        vertical-align: top;\n",
       "    }\n",
       "\n",
       "    .dataframe thead th {\n",
       "        text-align: right;\n",
       "    }\n",
       "</style>\n",
       "<table border=\"1\" class=\"dataframe\">\n",
       "  <thead>\n",
       "    <tr style=\"text-align: right;\">\n",
       "      <th></th>\n",
       "      <th>Unnamed: 0</th>\n",
       "      <th>id</th>\n",
       "      <th>minutes</th>\n",
       "      <th>submitted</th>\n",
       "      <th>n_steps</th>\n",
       "      <th>ingredients</th>\n",
       "      <th>n_ingredients</th>\n",
       "      <th>year</th>\n",
       "      <th>calories</th>\n",
       "      <th>total_fat</th>\n",
       "      <th>sugar</th>\n",
       "      <th>sodium</th>\n",
       "      <th>protein</th>\n",
       "      <th>saturated_fat</th>\n",
       "      <th>carbohydrates</th>\n",
       "      <th>kale</th>\n",
       "    </tr>\n",
       "  </thead>\n",
       "  <tbody>\n",
       "    <tr>\n",
       "      <th>0</th>\n",
       "      <td>115</td>\n",
       "      <td>453467</td>\n",
       "      <td>45</td>\n",
       "      <td>2011-04-11</td>\n",
       "      <td>12</td>\n",
       "      <td>['white sugar', 'brown sugar', 'salt', 'margar...</td>\n",
       "      <td>11</td>\n",
       "      <td>2011</td>\n",
       "      <td>595.1</td>\n",
       "      <td>46.0</td>\n",
       "      <td>211.0</td>\n",
       "      <td>22.0</td>\n",
       "      <td>13.0</td>\n",
       "      <td>51.0</td>\n",
       "      <td>26.0</td>\n",
       "      <td>False</td>\n",
       "    </tr>\n",
       "    <tr>\n",
       "      <th>1</th>\n",
       "      <td>125</td>\n",
       "      <td>475785</td>\n",
       "      <td>90</td>\n",
       "      <td>2012-03-06</td>\n",
       "      <td>17</td>\n",
       "      <td>['meatloaf mixture', 'unsmoked bacon', 'goat c...</td>\n",
       "      <td>13</td>\n",
       "      <td>2012</td>\n",
       "      <td>267.0</td>\n",
       "      <td>30.0</td>\n",
       "      <td>12.0</td>\n",
       "      <td>12.0</td>\n",
       "      <td>29.0</td>\n",
       "      <td>48.0</td>\n",
       "      <td>2.0</td>\n",
       "      <td>False</td>\n",
       "    </tr>\n",
       "  </tbody>\n",
       "</table>\n",
       "</div>"
      ],
      "text/plain": [
       "   Unnamed: 0      id  minutes   submitted  n_steps  \\\n",
       "0         115  453467       45  2011-04-11       12   \n",
       "1         125  475785       90  2012-03-06       17   \n",
       "\n",
       "                                         ingredients  n_ingredients  year  \\\n",
       "0  ['white sugar', 'brown sugar', 'salt', 'margar...             11  2011   \n",
       "1  ['meatloaf mixture', 'unsmoked bacon', 'goat c...             13  2012   \n",
       "\n",
       "   calories  total_fat  sugar  sodium  protein  saturated_fat  carbohydrates  \\\n",
       "0     595.1       46.0  211.0    22.0     13.0           51.0           26.0   \n",
       "1     267.0       30.0   12.0    12.0     29.0           48.0            2.0   \n",
       "\n",
       "    kale  \n",
       "0  False  \n",
       "1  False  "
      ]
     },
     "execution_count": 6,
     "metadata": {},
     "output_type": "execute_result"
    }
   ],
   "source": [
    "recipes['kale'] = ['kale' in tag for tag in recipes['ingredients']]\n",
    "recipes_tags = recipes.drop(columns=['name', 'tags', 'steps', 'description'])\n",
    "recipes_tags.head(2)"
   ]
  },
  {
   "cell_type": "code",
   "execution_count": 7,
   "metadata": {},
   "outputs": [],
   "source": [
    "df1 = recipes_tags.groupby(['year']).agg({'id':'count','kale':'sum'})\n",
    "df1 = df1.assign(ratio = df1['kale']/df1['id'])"
   ]
  },
  {
   "cell_type": "code",
   "execution_count": 8,
   "metadata": {},
   "outputs": [
    {
     "data": {
      "text/html": [
       "<div>\n",
       "<style scoped>\n",
       "    .dataframe tbody tr th:only-of-type {\n",
       "        vertical-align: middle;\n",
       "    }\n",
       "\n",
       "    .dataframe tbody tr th {\n",
       "        vertical-align: top;\n",
       "    }\n",
       "\n",
       "    .dataframe thead th {\n",
       "        text-align: right;\n",
       "    }\n",
       "</style>\n",
       "<table border=\"1\" class=\"dataframe\">\n",
       "  <thead>\n",
       "    <tr style=\"text-align: right;\">\n",
       "      <th></th>\n",
       "      <th>year</th>\n",
       "      <th>id</th>\n",
       "      <th>kale</th>\n",
       "      <th>ratio</th>\n",
       "    </tr>\n",
       "  </thead>\n",
       "  <tbody>\n",
       "    <tr>\n",
       "      <th>0</th>\n",
       "      <td>2009</td>\n",
       "      <td>14519</td>\n",
       "      <td>44.0</td>\n",
       "      <td>0.003031</td>\n",
       "    </tr>\n",
       "    <tr>\n",
       "      <th>1</th>\n",
       "      <td>2010</td>\n",
       "      <td>7705</td>\n",
       "      <td>31.0</td>\n",
       "      <td>0.004023</td>\n",
       "    </tr>\n",
       "    <tr>\n",
       "      <th>2</th>\n",
       "      <td>2011</td>\n",
       "      <td>4897</td>\n",
       "      <td>21.0</td>\n",
       "      <td>0.004288</td>\n",
       "    </tr>\n",
       "    <tr>\n",
       "      <th>3</th>\n",
       "      <td>2012</td>\n",
       "      <td>3446</td>\n",
       "      <td>15.0</td>\n",
       "      <td>0.004353</td>\n",
       "    </tr>\n",
       "    <tr>\n",
       "      <th>4</th>\n",
       "      <td>2013</td>\n",
       "      <td>2523</td>\n",
       "      <td>22.0</td>\n",
       "      <td>0.008720</td>\n",
       "    </tr>\n",
       "    <tr>\n",
       "      <th>5</th>\n",
       "      <td>2014</td>\n",
       "      <td>715</td>\n",
       "      <td>10.0</td>\n",
       "      <td>0.013986</td>\n",
       "    </tr>\n",
       "    <tr>\n",
       "      <th>6</th>\n",
       "      <td>2015</td>\n",
       "      <td>213</td>\n",
       "      <td>3.0</td>\n",
       "      <td>0.014085</td>\n",
       "    </tr>\n",
       "    <tr>\n",
       "      <th>7</th>\n",
       "      <td>2016</td>\n",
       "      <td>133</td>\n",
       "      <td>2.0</td>\n",
       "      <td>0.015038</td>\n",
       "    </tr>\n",
       "    <tr>\n",
       "      <th>8</th>\n",
       "      <td>2017</td>\n",
       "      <td>197</td>\n",
       "      <td>1.0</td>\n",
       "      <td>0.005076</td>\n",
       "    </tr>\n",
       "    <tr>\n",
       "      <th>9</th>\n",
       "      <td>2018</td>\n",
       "      <td>144</td>\n",
       "      <td>0.0</td>\n",
       "      <td>0.000000</td>\n",
       "    </tr>\n",
       "  </tbody>\n",
       "</table>\n",
       "</div>"
      ],
      "text/plain": [
       "   year     id  kale     ratio\n",
       "0  2009  14519  44.0  0.003031\n",
       "1  2010   7705  31.0  0.004023\n",
       "2  2011   4897  21.0  0.004288\n",
       "3  2012   3446  15.0  0.004353\n",
       "4  2013   2523  22.0  0.008720\n",
       "5  2014    715  10.0  0.013986\n",
       "6  2015    213   3.0  0.014085\n",
       "7  2016    133   2.0  0.015038\n",
       "8  2017    197   1.0  0.005076\n",
       "9  2018    144   0.0  0.000000"
      ]
     },
     "execution_count": 8,
     "metadata": {},
     "output_type": "execute_result"
    }
   ],
   "source": [
    "df1.reset_index()"
   ]
  },
  {
   "cell_type": "code",
   "execution_count": 9,
   "metadata": {},
   "outputs": [
    {
     "data": {
      "text/plain": [
       "<matplotlib.axes._subplots.AxesSubplot at 0x2ba0bb40a00>"
      ]
     },
     "execution_count": 9,
     "metadata": {},
     "output_type": "execute_result"
    },
    {
     "data": {
      "image/png": "[encoded data removed]",
      "text/plain": [
       "<Figure size 864x432 with 1 Axes>"
      ]
     },
     "metadata": {
      "needs_background": "light"
     },
     "output_type": "display_data"
    }
   ],
   "source": [
    "plt.figure(figsize=(12,6))\n",
    "\n",
    "ax = sns.lineplot(data=df1, x='year', y='ratio', linewidth=2.5)\n",
    "ax.set(ylim=(0, None))\n",
    "ax.set_title('Ratio Kale per total receipes / year')\n",
    "ax"
   ]
  },
  {
   "cell_type": "markdown",
   "metadata": {},
   "source": [
    "# 1.2 Exploring recipes w/tofu ingredients H0"
   ]
  },
  {
   "cell_type": "code",
   "execution_count": 10,
   "metadata": {},
   "outputs": [
    {
     "data": {
      "text/html": [
       "<div>\n",
       "<style scoped>\n",
       "    .dataframe tbody tr th:only-of-type {\n",
       "        vertical-align: middle;\n",
       "    }\n",
       "\n",
       "    .dataframe tbody tr th {\n",
       "        vertical-align: top;\n",
       "    }\n",
       "\n",
       "    .dataframe thead th {\n",
       "        text-align: right;\n",
       "    }\n",
       "</style>\n",
       "<table border=\"1\" class=\"dataframe\">\n",
       "  <thead>\n",
       "    <tr style=\"text-align: right;\">\n",
       "      <th></th>\n",
       "      <th>Unnamed: 0</th>\n",
       "      <th>name</th>\n",
       "      <th>id</th>\n",
       "      <th>minutes</th>\n",
       "      <th>submitted</th>\n",
       "      <th>n_steps</th>\n",
       "      <th>ingredients</th>\n",
       "      <th>n_ingredients</th>\n",
       "      <th>year</th>\n",
       "      <th>calories</th>\n",
       "      <th>total_fat</th>\n",
       "      <th>sugar</th>\n",
       "      <th>sodium</th>\n",
       "      <th>protein</th>\n",
       "      <th>saturated_fat</th>\n",
       "      <th>carbohydrates</th>\n",
       "      <th>kale</th>\n",
       "      <th>tofu</th>\n",
       "    </tr>\n",
       "  </thead>\n",
       "  <tbody>\n",
       "    <tr>\n",
       "      <th>0</th>\n",
       "      <td>115</td>\n",
       "      <td>1 in canada chocolate chip cookies</td>\n",
       "      <td>453467</td>\n",
       "      <td>45</td>\n",
       "      <td>2011-04-11</td>\n",
       "      <td>12</td>\n",
       "      <td>['white sugar', 'brown sugar', 'salt', 'margar...</td>\n",
       "      <td>11</td>\n",
       "      <td>2011</td>\n",
       "      <td>595.1</td>\n",
       "      <td>46.0</td>\n",
       "      <td>211.0</td>\n",
       "      <td>22.0</td>\n",
       "      <td>13.0</td>\n",
       "      <td>51.0</td>\n",
       "      <td>26.0</td>\n",
       "      <td>False</td>\n",
       "      <td>False</td>\n",
       "    </tr>\n",
       "    <tr>\n",
       "      <th>1</th>\n",
       "      <td>125</td>\n",
       "      <td>2000 meatloaf</td>\n",
       "      <td>475785</td>\n",
       "      <td>90</td>\n",
       "      <td>2012-03-06</td>\n",
       "      <td>17</td>\n",
       "      <td>['meatloaf mixture', 'unsmoked bacon', 'goat c...</td>\n",
       "      <td>13</td>\n",
       "      <td>2012</td>\n",
       "      <td>267.0</td>\n",
       "      <td>30.0</td>\n",
       "      <td>12.0</td>\n",
       "      <td>12.0</td>\n",
       "      <td>29.0</td>\n",
       "      <td>48.0</td>\n",
       "      <td>2.0</td>\n",
       "      <td>False</td>\n",
       "      <td>False</td>\n",
       "    </tr>\n",
       "  </tbody>\n",
       "</table>\n",
       "</div>"
      ],
      "text/plain": [
       "   Unnamed: 0                                name      id  minutes  \\\n",
       "0         115  1 in canada chocolate chip cookies  453467       45   \n",
       "1         125                       2000 meatloaf  475785       90   \n",
       "\n",
       "    submitted  n_steps                                        ingredients  \\\n",
       "0  2011-04-11       12  ['white sugar', 'brown sugar', 'salt', 'margar...   \n",
       "1  2012-03-06       17  ['meatloaf mixture', 'unsmoked bacon', 'goat c...   \n",
       "\n",
       "   n_ingredients  year  calories  total_fat  sugar  sodium  protein  \\\n",
       "0             11  2011     595.1       46.0  211.0    22.0     13.0   \n",
       "1             13  2012     267.0       30.0   12.0    12.0     29.0   \n",
       "\n",
       "   saturated_fat  carbohydrates   kale   tofu  \n",
       "0           51.0           26.0  False  False  \n",
       "1           48.0            2.0  False  False  "
      ]
     },
     "execution_count": 10,
     "metadata": {},
     "output_type": "execute_result"
    }
   ],
   "source": [
    "recipes['tofu'] = ['tofu' in tag for tag in recipes['ingredients']]\n",
    "recipes_ingredients_2 = recipes.drop(columns=['tags', 'steps', 'description'])\n",
    "recipes_ingredients_2.head(2)"
   ]
  },
  {
   "cell_type": "code",
   "execution_count": 11,
   "metadata": {},
   "outputs": [],
   "source": [
    "df2 = recipes_ingredients_2.groupby(['year']).agg({'id':'count','tofu':'sum'})\n",
    "df2 = df2.assign(ratio = df2['tofu']/df2['id'])"
   ]
  },
  {
   "cell_type": "code",
   "execution_count": 12,
   "metadata": {},
   "outputs": [
    {
     "data": {
      "text/plain": [
       "<matplotlib.axes._subplots.AxesSubplot at 0x2ba0d3da6a0>"
      ]
     },
     "execution_count": 12,
     "metadata": {},
     "output_type": "execute_result"
    },
    {
     "data": {
      "image/png": "[encoded data removed]",
      "text/plain": [
       "<Figure size 864x432 with 1 Axes>"
      ]
     },
     "metadata": {
      "needs_background": "light"
     },
     "output_type": "display_data"
    }
   ],
   "source": [
    "plt.figure(figsize=(12,6))\n",
    "\n",
    "ax = sns.lineplot(data=df2, x='year', y='ratio', linewidth=2.5)\n",
    "ax.set(ylim=(0, None))\n",
    "ax.set_title('Ratio Tofu per total receipes / year')\n",
    "ax"
   ]
  },
  {
   "cell_type": "markdown",
   "metadata": {},
   "source": [
    "# 1.3 Exploring w/vegetarian tags"
   ]
  },
  {
   "cell_type": "code",
   "execution_count": 13,
   "metadata": {},
   "outputs": [
    {
     "data": {
      "text/html": [
       "<div>\n",
       "<style scoped>\n",
       "    .dataframe tbody tr th:only-of-type {\n",
       "        vertical-align: middle;\n",
       "    }\n",
       "\n",
       "    .dataframe tbody tr th {\n",
       "        vertical-align: top;\n",
       "    }\n",
       "\n",
       "    .dataframe thead th {\n",
       "        text-align: right;\n",
       "    }\n",
       "</style>\n",
       "<table border=\"1\" class=\"dataframe\">\n",
       "  <thead>\n",
       "    <tr style=\"text-align: right;\">\n",
       "      <th></th>\n",
       "      <th>Unnamed: 0</th>\n",
       "      <th>id</th>\n",
       "      <th>minutes</th>\n",
       "      <th>submitted</th>\n",
       "      <th>tags</th>\n",
       "      <th>n_steps</th>\n",
       "      <th>n_ingredients</th>\n",
       "      <th>year</th>\n",
       "      <th>calories</th>\n",
       "      <th>total_fat</th>\n",
       "      <th>sugar</th>\n",
       "      <th>sodium</th>\n",
       "      <th>protein</th>\n",
       "      <th>saturated_fat</th>\n",
       "      <th>carbohydrates</th>\n",
       "      <th>kale</th>\n",
       "      <th>tofu</th>\n",
       "      <th>vegetarian</th>\n",
       "    </tr>\n",
       "  </thead>\n",
       "  <tbody>\n",
       "    <tr>\n",
       "      <th>0</th>\n",
       "      <td>115</td>\n",
       "      <td>453467</td>\n",
       "      <td>45</td>\n",
       "      <td>2011-04-11</td>\n",
       "      <td>['60-minutes-or-less', 'time-to-make', 'cuisin...</td>\n",
       "      <td>12</td>\n",
       "      <td>11</td>\n",
       "      <td>2011</td>\n",
       "      <td>595.1</td>\n",
       "      <td>46.0</td>\n",
       "      <td>211.0</td>\n",
       "      <td>22.0</td>\n",
       "      <td>13.0</td>\n",
       "      <td>51.0</td>\n",
       "      <td>26.0</td>\n",
       "      <td>False</td>\n",
       "      <td>False</td>\n",
       "      <td>False</td>\n",
       "    </tr>\n",
       "    <tr>\n",
       "      <th>1</th>\n",
       "      <td>125</td>\n",
       "      <td>475785</td>\n",
       "      <td>90</td>\n",
       "      <td>2012-03-06</td>\n",
       "      <td>['time-to-make', 'course', 'main-ingredient', ...</td>\n",
       "      <td>17</td>\n",
       "      <td>13</td>\n",
       "      <td>2012</td>\n",
       "      <td>267.0</td>\n",
       "      <td>30.0</td>\n",
       "      <td>12.0</td>\n",
       "      <td>12.0</td>\n",
       "      <td>29.0</td>\n",
       "      <td>48.0</td>\n",
       "      <td>2.0</td>\n",
       "      <td>False</td>\n",
       "      <td>False</td>\n",
       "      <td>False</td>\n",
       "    </tr>\n",
       "  </tbody>\n",
       "</table>\n",
       "</div>"
      ],
      "text/plain": [
       "   Unnamed: 0      id  minutes   submitted  \\\n",
       "0         115  453467       45  2011-04-11   \n",
       "1         125  475785       90  2012-03-06   \n",
       "\n",
       "                                                tags  n_steps  n_ingredients  \\\n",
       "0  ['60-minutes-or-less', 'time-to-make', 'cuisin...       12             11   \n",
       "1  ['time-to-make', 'course', 'main-ingredient', ...       17             13   \n",
       "\n",
       "   year  calories  total_fat  sugar  sodium  protein  saturated_fat  \\\n",
       "0  2011     595.1       46.0  211.0    22.0     13.0           51.0   \n",
       "1  2012     267.0       30.0   12.0    12.0     29.0           48.0   \n",
       "\n",
       "   carbohydrates   kale   tofu  vegetarian  \n",
       "0           26.0  False  False       False  \n",
       "1            2.0  False  False       False  "
      ]
     },
     "execution_count": 13,
     "metadata": {},
     "output_type": "execute_result"
    }
   ],
   "source": [
    "recipes['vegetarian'] = ['vegetarian' in tag for tag in recipes['tags']]\n",
    "recipes_ingredients_3 = recipes.drop(columns=['name', 'ingredients', 'steps', 'description'])\n",
    "recipes_ingredients_3.head(2)"
   ]
  },
  {
   "cell_type": "code",
   "execution_count": 14,
   "metadata": {},
   "outputs": [],
   "source": [
    "df3 = recipes_ingredients_3.groupby(['year']).agg({'id':'count','vegetarian':'sum'})\n",
    "df3 = df3.assign(ratio = df3['vegetarian']/df3['id'])"
   ]
  },
  {
   "cell_type": "code",
   "execution_count": 15,
   "metadata": {},
   "outputs": [
    {
     "data": {
      "text/plain": [
       "<matplotlib.axes._subplots.AxesSubplot at 0x2ba0d2561f0>"
      ]
     },
     "execution_count": 15,
     "metadata": {},
     "output_type": "execute_result"
    },
    {
     "data": {
      "image/png": "[encoded data removed]",
      "text/plain": [
       "<Figure size 864x432 with 1 Axes>"
      ]
     },
     "metadata": {
      "needs_background": "light"
     },
     "output_type": "display_data"
    }
   ],
   "source": [
    "plt.figure(figsize=(12,6))\n",
    "\n",
    "ax = sns.lineplot(data=df3, x='year', y='ratio', linewidth=2.5)\n",
    "ax.set(ylim=(0, None))\n",
    "ax.set_title('Evolution vegetarian recipes per total receipes / year')\n",
    "ax"
   ]
  },
  {
   "cell_type": "markdown",
   "metadata": {},
   "source": [
    "The rate drops heavily through the years, but we don't refuse the H0, as we firmly believe that the drop in vegetarian rate dishes is not to the lack of interest, if not it's the beahvorial change of the user. During the past years, there has been a drop in the young users in webpages and an increase in new platforms as youtube or social media. Because of that, we analyze Google trends to test our H0."
   ]
  },
  {
   "cell_type": "markdown",
   "metadata": {},
   "source": [
    "# 2. Google trends API"
   ]
  },
  {
   "cell_type": "markdown",
   "metadata": {},
   "source": [
    "### 2.1 We get a list of our recipes containing tofu"
   ]
  },
  {
   "cell_type": "code",
   "execution_count": 16,
   "metadata": {},
   "outputs": [
    {
     "data": {
      "text/plain": [
       "Unnamed: 0         int64\n",
       "name              object\n",
       "id                 int64\n",
       "minutes            int64\n",
       "submitted         object\n",
       "n_steps            int64\n",
       "ingredients       object\n",
       "n_ingredients      int64\n",
       "year               int64\n",
       "calories         float64\n",
       "total_fat        float64\n",
       "sugar            float64\n",
       "sodium           float64\n",
       "protein          float64\n",
       "saturated_fat    float64\n",
       "carbohydrates    float64\n",
       "kale                bool\n",
       "tofu                bool\n",
       "dtype: object"
      ]
     },
     "execution_count": 16,
     "metadata": {},
     "output_type": "execute_result"
    }
   ],
   "source": [
    "recipes_ingredients_2.dtypes"
   ]
  },
  {
   "cell_type": "code",
   "execution_count": 17,
   "metadata": {},
   "outputs": [],
   "source": [
    "# We filter our recipes by Tofu \n",
    "tofu_recipes = recipes_ingredients_2[(recipes_ingredients_2['tofu'] == True)]"
   ]
  },
  {
   "cell_type": "code",
   "execution_count": 18,
   "metadata": {},
   "outputs": [],
   "source": [
    "tofu_recipes_healthier = tofu_recipes[(tofu_recipes['calories'] < 300)]"
   ]
  },
  {
   "cell_type": "code",
   "execution_count": 19,
   "metadata": {},
   "outputs": [
    {
     "name": "stderr",
     "output_type": "stream",
     "text": [
      "<ipython-input-19-18c1426ca611>:1: UserWarning: Boolean Series key will be reindexed to match DataFrame index.\n",
      "  tofu_recipes_healthier = tofu_recipes_healthier[(tofu_recipes['saturated_fat'] < 5)]\n"
     ]
    }
   ],
   "source": [
    "tofu_recipes_healthier = tofu_recipes_healthier[(tofu_recipes['saturated_fat'] < 5)]"
   ]
  },
  {
   "cell_type": "code",
   "execution_count": 20,
   "metadata": {},
   "outputs": [],
   "source": [
    "tofu_recipes_healthier = tofu_recipes_healthier.reset_index(drop=True)"
   ]
  },
  {
   "cell_type": "markdown",
   "metadata": {},
   "source": [
    "### 2.2 Building Payload & Collecting Data of Keywords"
   ]
  },
  {
   "cell_type": "markdown",
   "metadata": {},
   "source": [
    "Google Trends API connection: https://pypi.org/project/pytrends/#api-methods"
   ]
  },
  {
   "cell_type": "code",
   "execution_count": 21,
   "metadata": {},
   "outputs": [],
   "source": [
    "from pytrends.request import TrendReq\n",
    "pytrends = TrendReq(hl='en-US', tz=360, retries=10, backoff_factor=0.5)"
   ]
  },
  {
   "cell_type": "code",
   "execution_count": 22,
   "metadata": {},
   "outputs": [],
   "source": [
    "tofu_recipes_names = tofu_recipes_healthier['name']"
   ]
  },
  {
   "cell_type": "code",
   "execution_count": 23,
   "metadata": {},
   "outputs": [],
   "source": [
    "tofu_recipes_names = tofu_recipes_names.values.tolist()"
   ]
  },
  {
   "cell_type": "markdown",
   "metadata": {},
   "source": [
    "#### pytrends in Google API - First Try"
   ]
  },
  {
   "cell_type": "markdown",
   "metadata": {},
   "source": [
    "With the list of names from the healthier tofu recipes we will iterate through all and extract the google trends information, and save them as csv's"
   ]
  },
  {
   "cell_type": "raw",
   "metadata": {},
   "source": [
    "directory = \"/Users/marcp/Desktop/Ironhack/Clases/FINAL PROJECT/Project 2/Google Trends scrapping 2\"\n",
    "kw_list = tofu_recipes_names\n",
    "\n",
    "\n",
    "def gtrends_overtime(full_list, key_ref, save_name=\"\", directory=\"\", category=0, time='all', loc=''):\n",
    "    #iterate every 4 item in list plus a keyword reference as the relative comparison\n",
    "    i = 0\n",
    "    while i < len(kw_list):\n",
    "        l = kw_list[i:(i+4)]\n",
    "        l.append(key_ref)\n",
    "        pytrends.build_payload(l, cat=category, timeframe=time, geo=loc, gprop='')\n",
    "        df_time = pytrends.interest_over_time()\n",
    "        df_time.reset_index(inplace=True)\n",
    "        df_time_name = \"gtrends_overtime\"+str(save_name)+str((i+4)//4)+\".csv\"\n",
    "        df_time.to_csv(directory+df_time_name, index = False)\n",
    "        i += 4"
   ]
  },
  {
   "cell_type": "markdown",
   "metadata": {},
   "source": [
    "#Looking for tofu, in US the last 12 years\n",
    "gtrends_overtime(kw_list, 'tofu', \"_US_\", directory,\n",
    "                 category=71, time='2008-01-01 2018-12-31', loc='US')"
   ]
  },
  {
   "cell_type": "markdown",
   "metadata": {},
   "source": [
    "It hasn't found any trends for the dishes name just for the tag tofu, the other were too specific, we redifine the key words in a new list"
   ]
  },
  {
   "cell_type": "markdown",
   "metadata": {},
   "source": [
    "#### pytrends in Google API - Second Try"
   ]
  },
  {
   "cell_type": "code",
   "execution_count": 24,
   "metadata": {},
   "outputs": [],
   "source": [
    "directory = \"/Users/marcp/Desktop/Ironhack/Clases/FINAL PROJECT/Project 2/Google Trends scrapping 2\"\n",
    "kw_list = ['tofu','kale','vegetarian','healthy food']"
   ]
  },
  {
   "cell_type": "code",
   "execution_count": 25,
   "metadata": {},
   "outputs": [],
   "source": [
    "category=''\n",
    "time='2008-01-01 2018-12-31'\n",
    "loc='US'\n",
    "\n",
    "\n",
    "pytrends.build_payload(kw_list, cat=0, timeframe=time, geo=loc, gprop='')\n",
    "df_time = pytrends.interest_over_time()\n",
    "df_time.reset_index(inplace=True)"
   ]
  },
  {
   "cell_type": "code",
   "execution_count": 26,
   "metadata": {},
   "outputs": [
    {
     "data": {
      "text/html": [
       "<div>\n",
       "<style scoped>\n",
       "    .dataframe tbody tr th:only-of-type {\n",
       "        vertical-align: middle;\n",
       "    }\n",
       "\n",
       "    .dataframe tbody tr th {\n",
       "        vertical-align: top;\n",
       "    }\n",
       "\n",
       "    .dataframe thead th {\n",
       "        text-align: right;\n",
       "    }\n",
       "</style>\n",
       "<table border=\"1\" class=\"dataframe\">\n",
       "  <thead>\n",
       "    <tr style=\"text-align: right;\">\n",
       "      <th></th>\n",
       "      <th>date</th>\n",
       "      <th>tofu</th>\n",
       "      <th>kale</th>\n",
       "      <th>vegetarian</th>\n",
       "      <th>healthy food</th>\n",
       "      <th>isPartial</th>\n",
       "    </tr>\n",
       "  </thead>\n",
       "  <tbody>\n",
       "    <tr>\n",
       "      <th>0</th>\n",
       "      <td>2008-01-01</td>\n",
       "      <td>26</td>\n",
       "      <td>10</td>\n",
       "      <td>72</td>\n",
       "      <td>18</td>\n",
       "      <td>False</td>\n",
       "    </tr>\n",
       "    <tr>\n",
       "      <th>1</th>\n",
       "      <td>2008-02-01</td>\n",
       "      <td>27</td>\n",
       "      <td>10</td>\n",
       "      <td>70</td>\n",
       "      <td>15</td>\n",
       "      <td>False</td>\n",
       "    </tr>\n",
       "    <tr>\n",
       "      <th>2</th>\n",
       "      <td>2008-03-01</td>\n",
       "      <td>24</td>\n",
       "      <td>10</td>\n",
       "      <td>61</td>\n",
       "      <td>16</td>\n",
       "      <td>False</td>\n",
       "    </tr>\n",
       "    <tr>\n",
       "      <th>3</th>\n",
       "      <td>2008-04-01</td>\n",
       "      <td>23</td>\n",
       "      <td>9</td>\n",
       "      <td>66</td>\n",
       "      <td>18</td>\n",
       "      <td>False</td>\n",
       "    </tr>\n",
       "    <tr>\n",
       "      <th>4</th>\n",
       "      <td>2008-05-01</td>\n",
       "      <td>24</td>\n",
       "      <td>7</td>\n",
       "      <td>57</td>\n",
       "      <td>15</td>\n",
       "      <td>False</td>\n",
       "    </tr>\n",
       "    <tr>\n",
       "      <th>...</th>\n",
       "      <td>...</td>\n",
       "      <td>...</td>\n",
       "      <td>...</td>\n",
       "      <td>...</td>\n",
       "      <td>...</td>\n",
       "      <td>...</td>\n",
       "    </tr>\n",
       "    <tr>\n",
       "      <th>127</th>\n",
       "      <td>2018-08-01</td>\n",
       "      <td>35</td>\n",
       "      <td>39</td>\n",
       "      <td>73</td>\n",
       "      <td>29</td>\n",
       "      <td>False</td>\n",
       "    </tr>\n",
       "    <tr>\n",
       "      <th>128</th>\n",
       "      <td>2018-09-01</td>\n",
       "      <td>35</td>\n",
       "      <td>38</td>\n",
       "      <td>74</td>\n",
       "      <td>28</td>\n",
       "      <td>False</td>\n",
       "    </tr>\n",
       "    <tr>\n",
       "      <th>129</th>\n",
       "      <td>2018-10-01</td>\n",
       "      <td>34</td>\n",
       "      <td>39</td>\n",
       "      <td>79</td>\n",
       "      <td>26</td>\n",
       "      <td>False</td>\n",
       "    </tr>\n",
       "    <tr>\n",
       "      <th>130</th>\n",
       "      <td>2018-11-01</td>\n",
       "      <td>34</td>\n",
       "      <td>41</td>\n",
       "      <td>78</td>\n",
       "      <td>25</td>\n",
       "      <td>False</td>\n",
       "    </tr>\n",
       "    <tr>\n",
       "      <th>131</th>\n",
       "      <td>2018-12-01</td>\n",
       "      <td>34</td>\n",
       "      <td>37</td>\n",
       "      <td>84</td>\n",
       "      <td>24</td>\n",
       "      <td>False</td>\n",
       "    </tr>\n",
       "  </tbody>\n",
       "</table>\n",
       "<p>132 rows × 6 columns</p>\n",
       "</div>"
      ],
      "text/plain": [
       "          date  tofu  kale  vegetarian  healthy food  isPartial\n",
       "0   2008-01-01    26    10          72            18      False\n",
       "1   2008-02-01    27    10          70            15      False\n",
       "2   2008-03-01    24    10          61            16      False\n",
       "3   2008-04-01    23     9          66            18      False\n",
       "4   2008-05-01    24     7          57            15      False\n",
       "..         ...   ...   ...         ...           ...        ...\n",
       "127 2018-08-01    35    39          73            29      False\n",
       "128 2018-09-01    35    38          74            28      False\n",
       "129 2018-10-01    34    39          79            26      False\n",
       "130 2018-11-01    34    41          78            25      False\n",
       "131 2018-12-01    34    37          84            24      False\n",
       "\n",
       "[132 rows x 6 columns]"
      ]
     },
     "execution_count": 26,
     "metadata": {},
     "output_type": "execute_result"
    }
   ],
   "source": [
    "df_time"
   ]
  },
  {
   "cell_type": "markdown",
   "metadata": {},
   "source": [
    "Interest Over Time: returns historical, indexed data for when the keyword was searched most as shown on Google Trends'Interest What’s most useful for storytelling is our normalized Trends data. This means that when we look at search interest over time for a topic, we’re looking at that interest as a proportion of all searches on all topics on Google at that time and location. When we look at regional search interest for a topic, we’re looking at the search interest for that topic in a given region as a proportion of all searches on all topics on Google in that same place and time.\n",
    "\n",
    "https://medium.com/google-news-lab/what-is-google-trends-data-and-what-does-it-mean-b48f07342ee8"
   ]
  },
  {
   "cell_type": "markdown",
   "metadata": {},
   "source": [
    "There are many functions for extracting data from Google Trends API, but we consider that with Interest Over time we can test our hypothesis"
   ]
  },
  {
   "cell_type": "code",
   "execution_count": 27,
   "metadata": {},
   "outputs": [],
   "source": [
    "#Export df for later visualization:\n",
    "\n",
    "df_time.to_csv(r'\\Users\\marcp\\Desktop\\Ironhack\\Clases\\FINAL PROJECT\\Project 2\\Google Trends API scrapping\\Google Trends Good\\google_trends_analysis.csv')  "
   ]
  }
 ],
 "metadata": {
  "kernelspec": {
   "display_name": "Python 3",
   "language": "python",
   "name": "python3"
  },
  "language_info": {
   "codemirror_mode": {
    "name": "ipython",
    "version": 3
   },
   "file_extension": ".py",
   "mimetype": "text/x-python",
   "name": "python",
   "nbconvert_exporter": "python",
   "pygments_lexer": "ipython3",
   "version": "3.8.3"
  }
 },
 "nbformat": 4,
 "nbformat_minor": 4
}
