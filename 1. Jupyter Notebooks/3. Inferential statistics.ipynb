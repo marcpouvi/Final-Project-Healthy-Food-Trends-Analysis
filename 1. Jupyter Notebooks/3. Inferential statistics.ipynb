{
 "cells": [
  {
   "cell_type": "code",
   "execution_count": 1,
   "metadata": {},
   "outputs": [],
   "source": [
    "import pandas as pd\n",
    "import seaborn as sns\n",
    "import matplotlib.pyplot as plt\n",
    "%matplotlib inline\n",
    "import numpy as np\n",
    "import pandas_profiling\n",
    "from ast import literal_eval\n",
    "import pandas as pd\n",
    "import numpy as np\n",
    "pd.set_option('display.max_columns', None)\n",
    "import warnings\n",
    "warnings.filterwarnings('ignore')\n",
    "import matplotlib.pyplot as plt\n",
    "import seaborn as sns \n",
    "from scipy import stats"
   ]
  },
  {
   "cell_type": "markdown",
   "metadata": {},
   "source": [
    "### Applying inferential statistics to evaluate our H0 - Test 1"
   ]
  },
  {
   "cell_type": "markdown",
   "metadata": {},
   "source": [
    "As we obtained trend information regarding tofu, we can analyze our main question and Hypothesis\n",
    "\n",
    "Hypothesis: Between the years of 2009 and 2018 the number of mentions of tofu recipes increased significantly\n",
    "\n",
    "H0: mean 2018 sample = mean population\n",
    "\n",
    "Question = Is the group significantly different from the regular population ?"
   ]
  },
  {
   "cell_type": "code",
   "execution_count": 2,
   "metadata": {},
   "outputs": [],
   "source": [
    "trends = pd.read_csv(r'\\Users\\marcp\\Desktop\\Ironhack\\Clases\\FINAL PROJECT\\Project 2\\Google Trends API scrapping\\Google Trends Good\\google_trends_analysis.csv')"
   ]
  },
  {
   "cell_type": "markdown",
   "metadata": {},
   "source": [
    "#### Population table"
   ]
  },
  {
   "cell_type": "code",
   "execution_count": 3,
   "metadata": {},
   "outputs": [],
   "source": [
    "tofu_trends_population = trends[['date', 'tofu']].copy()"
   ]
  },
  {
   "cell_type": "code",
   "execution_count": 4,
   "metadata": {
    "scrolled": true
   },
   "outputs": [
    {
     "data": {
      "text/html": [
       "<div>\n",
       "<style scoped>\n",
       "    .dataframe tbody tr th:only-of-type {\n",
       "        vertical-align: middle;\n",
       "    }\n",
       "\n",
       "    .dataframe tbody tr th {\n",
       "        vertical-align: top;\n",
       "    }\n",
       "\n",
       "    .dataframe thead th {\n",
       "        text-align: right;\n",
       "    }\n",
       "</style>\n",
       "<table border=\"1\" class=\"dataframe\">\n",
       "  <thead>\n",
       "    <tr style=\"text-align: right;\">\n",
       "      <th></th>\n",
       "      <th>tofu</th>\n",
       "    </tr>\n",
       "  </thead>\n",
       "  <tbody>\n",
       "    <tr>\n",
       "      <th>count</th>\n",
       "      <td>132.000000</td>\n",
       "    </tr>\n",
       "    <tr>\n",
       "      <th>mean</th>\n",
       "      <td>29.681818</td>\n",
       "    </tr>\n",
       "    <tr>\n",
       "      <th>std</th>\n",
       "      <td>4.687678</td>\n",
       "    </tr>\n",
       "    <tr>\n",
       "      <th>min</th>\n",
       "      <td>19.000000</td>\n",
       "    </tr>\n",
       "    <tr>\n",
       "      <th>25%</th>\n",
       "      <td>26.000000</td>\n",
       "    </tr>\n",
       "    <tr>\n",
       "      <th>50%</th>\n",
       "      <td>29.000000</td>\n",
       "    </tr>\n",
       "    <tr>\n",
       "      <th>75%</th>\n",
       "      <td>33.000000</td>\n",
       "    </tr>\n",
       "    <tr>\n",
       "      <th>max</th>\n",
       "      <td>44.000000</td>\n",
       "    </tr>\n",
       "  </tbody>\n",
       "</table>\n",
       "</div>"
      ],
      "text/plain": [
       "             tofu\n",
       "count  132.000000\n",
       "mean    29.681818\n",
       "std      4.687678\n",
       "min     19.000000\n",
       "25%     26.000000\n",
       "50%     29.000000\n",
       "75%     33.000000\n",
       "max     44.000000"
      ]
     },
     "execution_count": 4,
     "metadata": {},
     "output_type": "execute_result"
    }
   ],
   "source": [
    "tofu_trends_population.describe()"
   ]
  },
  {
   "cell_type": "code",
   "execution_count": 5,
   "metadata": {},
   "outputs": [],
   "source": [
    "tofu_trends_population['date'] = pd.to_datetime(tofu_trends_population['date'])"
   ]
  },
  {
   "cell_type": "code",
   "execution_count": 6,
   "metadata": {},
   "outputs": [],
   "source": [
    "# Add year column\n",
    "tofu_trends_population['year'] = tofu_trends_population['date'].dt.year"
   ]
  },
  {
   "cell_type": "code",
   "execution_count": 7,
   "metadata": {
    "scrolled": true
   },
   "outputs": [
    {
     "data": {
      "text/html": [
       "<div>\n",
       "<style scoped>\n",
       "    .dataframe tbody tr th:only-of-type {\n",
       "        vertical-align: middle;\n",
       "    }\n",
       "\n",
       "    .dataframe tbody tr th {\n",
       "        vertical-align: top;\n",
       "    }\n",
       "\n",
       "    .dataframe thead th {\n",
       "        text-align: right;\n",
       "    }\n",
       "</style>\n",
       "<table border=\"1\" class=\"dataframe\">\n",
       "  <thead>\n",
       "    <tr style=\"text-align: right;\">\n",
       "      <th></th>\n",
       "      <th>date</th>\n",
       "      <th>tofu</th>\n",
       "      <th>year</th>\n",
       "    </tr>\n",
       "  </thead>\n",
       "  <tbody>\n",
       "    <tr>\n",
       "      <th>0</th>\n",
       "      <td>2008-01-01</td>\n",
       "      <td>27</td>\n",
       "      <td>2008</td>\n",
       "    </tr>\n",
       "    <tr>\n",
       "      <th>1</th>\n",
       "      <td>2008-02-01</td>\n",
       "      <td>25</td>\n",
       "      <td>2008</td>\n",
       "    </tr>\n",
       "    <tr>\n",
       "      <th>2</th>\n",
       "      <td>2008-03-01</td>\n",
       "      <td>24</td>\n",
       "      <td>2008</td>\n",
       "    </tr>\n",
       "    <tr>\n",
       "      <th>3</th>\n",
       "      <td>2008-04-01</td>\n",
       "      <td>25</td>\n",
       "      <td>2008</td>\n",
       "    </tr>\n",
       "    <tr>\n",
       "      <th>4</th>\n",
       "      <td>2008-05-01</td>\n",
       "      <td>23</td>\n",
       "      <td>2008</td>\n",
       "    </tr>\n",
       "    <tr>\n",
       "      <th>...</th>\n",
       "      <td>...</td>\n",
       "      <td>...</td>\n",
       "      <td>...</td>\n",
       "    </tr>\n",
       "    <tr>\n",
       "      <th>127</th>\n",
       "      <td>2018-08-01</td>\n",
       "      <td>37</td>\n",
       "      <td>2018</td>\n",
       "    </tr>\n",
       "    <tr>\n",
       "      <th>128</th>\n",
       "      <td>2018-09-01</td>\n",
       "      <td>35</td>\n",
       "      <td>2018</td>\n",
       "    </tr>\n",
       "    <tr>\n",
       "      <th>129</th>\n",
       "      <td>2018-10-01</td>\n",
       "      <td>34</td>\n",
       "      <td>2018</td>\n",
       "    </tr>\n",
       "    <tr>\n",
       "      <th>130</th>\n",
       "      <td>2018-11-01</td>\n",
       "      <td>33</td>\n",
       "      <td>2018</td>\n",
       "    </tr>\n",
       "    <tr>\n",
       "      <th>131</th>\n",
       "      <td>2018-12-01</td>\n",
       "      <td>33</td>\n",
       "      <td>2018</td>\n",
       "    </tr>\n",
       "  </tbody>\n",
       "</table>\n",
       "<p>132 rows × 3 columns</p>\n",
       "</div>"
      ],
      "text/plain": [
       "          date  tofu  year\n",
       "0   2008-01-01    27  2008\n",
       "1   2008-02-01    25  2008\n",
       "2   2008-03-01    24  2008\n",
       "3   2008-04-01    25  2008\n",
       "4   2008-05-01    23  2008\n",
       "..         ...   ...   ...\n",
       "127 2018-08-01    37  2018\n",
       "128 2018-09-01    35  2018\n",
       "129 2018-10-01    34  2018\n",
       "130 2018-11-01    33  2018\n",
       "131 2018-12-01    33  2018\n",
       "\n",
       "[132 rows x 3 columns]"
      ]
     },
     "execution_count": 7,
     "metadata": {},
     "output_type": "execute_result"
    }
   ],
   "source": [
    "tofu_trends_population"
   ]
  },
  {
   "cell_type": "markdown",
   "metadata": {},
   "source": [
    "#### Sample table 2018"
   ]
  },
  {
   "cell_type": "markdown",
   "metadata": {},
   "source": [
    "Our first sample is the population of 2018"
   ]
  },
  {
   "cell_type": "code",
   "execution_count": 8,
   "metadata": {},
   "outputs": [],
   "source": [
    "tofu_trends_sample = tofu_trends_population"
   ]
  },
  {
   "cell_type": "code",
   "execution_count": 9,
   "metadata": {},
   "outputs": [],
   "source": [
    "from_year, to_year = '2017-12-31','2018-12-31'\n",
    "tofu_trends_sample['date'] = tofu_trends_sample['date'].apply(lambda x: x.tz_localize(None))\n",
    "tofu_trends_sample = tofu_trends_sample.loc[tofu_trends_sample['date'].between(from_year, to_year, inclusive=False)]"
   ]
  },
  {
   "cell_type": "code",
   "execution_count": 10,
   "metadata": {
    "scrolled": true
   },
   "outputs": [
    {
     "data": {
      "text/html": [
       "<div>\n",
       "<style scoped>\n",
       "    .dataframe tbody tr th:only-of-type {\n",
       "        vertical-align: middle;\n",
       "    }\n",
       "\n",
       "    .dataframe tbody tr th {\n",
       "        vertical-align: top;\n",
       "    }\n",
       "\n",
       "    .dataframe thead th {\n",
       "        text-align: right;\n",
       "    }\n",
       "</style>\n",
       "<table border=\"1\" class=\"dataframe\">\n",
       "  <thead>\n",
       "    <tr style=\"text-align: right;\">\n",
       "      <th></th>\n",
       "      <th>date</th>\n",
       "      <th>tofu</th>\n",
       "      <th>year</th>\n",
       "    </tr>\n",
       "  </thead>\n",
       "  <tbody>\n",
       "    <tr>\n",
       "      <th>120</th>\n",
       "      <td>2018-01-01</td>\n",
       "      <td>44</td>\n",
       "      <td>2018</td>\n",
       "    </tr>\n",
       "    <tr>\n",
       "      <th>121</th>\n",
       "      <td>2018-02-01</td>\n",
       "      <td>42</td>\n",
       "      <td>2018</td>\n",
       "    </tr>\n",
       "    <tr>\n",
       "      <th>122</th>\n",
       "      <td>2018-03-01</td>\n",
       "      <td>41</td>\n",
       "      <td>2018</td>\n",
       "    </tr>\n",
       "    <tr>\n",
       "      <th>123</th>\n",
       "      <td>2018-04-01</td>\n",
       "      <td>38</td>\n",
       "      <td>2018</td>\n",
       "    </tr>\n",
       "    <tr>\n",
       "      <th>124</th>\n",
       "      <td>2018-05-01</td>\n",
       "      <td>35</td>\n",
       "      <td>2018</td>\n",
       "    </tr>\n",
       "    <tr>\n",
       "      <th>125</th>\n",
       "      <td>2018-06-01</td>\n",
       "      <td>37</td>\n",
       "      <td>2018</td>\n",
       "    </tr>\n",
       "    <tr>\n",
       "      <th>126</th>\n",
       "      <td>2018-07-01</td>\n",
       "      <td>39</td>\n",
       "      <td>2018</td>\n",
       "    </tr>\n",
       "    <tr>\n",
       "      <th>127</th>\n",
       "      <td>2018-08-01</td>\n",
       "      <td>37</td>\n",
       "      <td>2018</td>\n",
       "    </tr>\n",
       "    <tr>\n",
       "      <th>128</th>\n",
       "      <td>2018-09-01</td>\n",
       "      <td>35</td>\n",
       "      <td>2018</td>\n",
       "    </tr>\n",
       "    <tr>\n",
       "      <th>129</th>\n",
       "      <td>2018-10-01</td>\n",
       "      <td>34</td>\n",
       "      <td>2018</td>\n",
       "    </tr>\n",
       "    <tr>\n",
       "      <th>130</th>\n",
       "      <td>2018-11-01</td>\n",
       "      <td>33</td>\n",
       "      <td>2018</td>\n",
       "    </tr>\n",
       "    <tr>\n",
       "      <th>131</th>\n",
       "      <td>2018-12-01</td>\n",
       "      <td>33</td>\n",
       "      <td>2018</td>\n",
       "    </tr>\n",
       "  </tbody>\n",
       "</table>\n",
       "</div>"
      ],
      "text/plain": [
       "          date  tofu  year\n",
       "120 2018-01-01    44  2018\n",
       "121 2018-02-01    42  2018\n",
       "122 2018-03-01    41  2018\n",
       "123 2018-04-01    38  2018\n",
       "124 2018-05-01    35  2018\n",
       "125 2018-06-01    37  2018\n",
       "126 2018-07-01    39  2018\n",
       "127 2018-08-01    37  2018\n",
       "128 2018-09-01    35  2018\n",
       "129 2018-10-01    34  2018\n",
       "130 2018-11-01    33  2018\n",
       "131 2018-12-01    33  2018"
      ]
     },
     "execution_count": 10,
     "metadata": {},
     "output_type": "execute_result"
    }
   ],
   "source": [
    "tofu_trends_sample"
   ]
  },
  {
   "cell_type": "code",
   "execution_count": 11,
   "metadata": {
    "scrolled": true
   },
   "outputs": [
    {
     "data": {
      "text/html": [
       "<div>\n",
       "<style scoped>\n",
       "    .dataframe tbody tr th:only-of-type {\n",
       "        vertical-align: middle;\n",
       "    }\n",
       "\n",
       "    .dataframe tbody tr th {\n",
       "        vertical-align: top;\n",
       "    }\n",
       "\n",
       "    .dataframe thead th {\n",
       "        text-align: right;\n",
       "    }\n",
       "</style>\n",
       "<table border=\"1\" class=\"dataframe\">\n",
       "  <thead>\n",
       "    <tr style=\"text-align: right;\">\n",
       "      <th></th>\n",
       "      <th>tofu</th>\n",
       "      <th>year</th>\n",
       "    </tr>\n",
       "  </thead>\n",
       "  <tbody>\n",
       "    <tr>\n",
       "      <th>count</th>\n",
       "      <td>12.000000</td>\n",
       "      <td>12.0</td>\n",
       "    </tr>\n",
       "    <tr>\n",
       "      <th>mean</th>\n",
       "      <td>37.333333</td>\n",
       "      <td>2018.0</td>\n",
       "    </tr>\n",
       "    <tr>\n",
       "      <th>std</th>\n",
       "      <td>3.601347</td>\n",
       "      <td>0.0</td>\n",
       "    </tr>\n",
       "    <tr>\n",
       "      <th>min</th>\n",
       "      <td>33.000000</td>\n",
       "      <td>2018.0</td>\n",
       "    </tr>\n",
       "    <tr>\n",
       "      <th>25%</th>\n",
       "      <td>34.750000</td>\n",
       "      <td>2018.0</td>\n",
       "    </tr>\n",
       "    <tr>\n",
       "      <th>50%</th>\n",
       "      <td>37.000000</td>\n",
       "      <td>2018.0</td>\n",
       "    </tr>\n",
       "    <tr>\n",
       "      <th>75%</th>\n",
       "      <td>39.500000</td>\n",
       "      <td>2018.0</td>\n",
       "    </tr>\n",
       "    <tr>\n",
       "      <th>max</th>\n",
       "      <td>44.000000</td>\n",
       "      <td>2018.0</td>\n",
       "    </tr>\n",
       "  </tbody>\n",
       "</table>\n",
       "</div>"
      ],
      "text/plain": [
       "            tofu    year\n",
       "count  12.000000    12.0\n",
       "mean   37.333333  2018.0\n",
       "std     3.601347     0.0\n",
       "min    33.000000  2018.0\n",
       "25%    34.750000  2018.0\n",
       "50%    37.000000  2018.0\n",
       "75%    39.500000  2018.0\n",
       "max    44.000000  2018.0"
      ]
     },
     "execution_count": 11,
     "metadata": {},
     "output_type": "execute_result"
    }
   ],
   "source": [
    "tofu_trends_sample.describe()"
   ]
  },
  {
   "cell_type": "markdown",
   "metadata": {},
   "source": [
    "#### Inferential statistics Test-1"
   ]
  },
  {
   "cell_type": "raw",
   "metadata": {},
   "source": [
    "Hypothesis testing\n",
    "It is assumed that the mean is μ = 29.681818 and a std deviation = 4.687678. Sample of n = 12 with average of a mean  with a mean 37.333333\t and a standard deviation of 3.601347. Is the group significantly different (with respect to the population) from the regular population?\n",
    "\n",
    "STEPS:\n",
    "\n",
    "1. Set up the hypothesis test.\n",
    "2. Write down all the steps followed for setting up the test.\n",
    "3. Calculate the test statistic in Python. We will take a look at how to make decisions based on this calculated value.\n",
    "z=(𝑋¯−𝜇0)σ /𝑛√ \n",
    "where:\n",
    "\n",
    "𝑋¯  is the sample mean\n",
    "𝜇0  is the population mean\n",
    "σ   is the population standard deviation\n",
    "𝑛  is the number of measures in our sample"
   ]
  },
  {
   "cell_type": "raw",
   "metadata": {},
   "source": [
    "𝑋¯ = 37.333333\n",
    "𝜇0 = 29.681818\n",
    "σ = 4.687678\n",
    "n = 12"
   ]
  },
  {
   "cell_type": "markdown",
   "metadata": {},
   "source": [
    "1. Set up the hypothesis test:"
   ]
  },
  {
   "cell_type": "raw",
   "metadata": {},
   "source": [
    "H0 = Sample mean is equal to the population mean.\n",
    "Question = Is the group significantly different from the regular population ?\n",
    "We are going to do a 2 tail test, 97.5% confidence in a standard normal distribution"
   ]
  },
  {
   "cell_type": "markdown",
   "metadata": {},
   "source": [
    "2. Write down all the steps followed for setting up the test \n",
    "3. Calculate the statistic in Python"
   ]
  },
  {
   "cell_type": "code",
   "execution_count": 12,
   "metadata": {},
   "outputs": [
    {
     "name": "stdout",
     "output_type": "stream",
     "text": [
      "Statistic is:  5.654318720217295\n"
     ]
    }
   ],
   "source": [
    "#1. Fisrt we import the library\n",
    "import math\n",
    "\n",
    "# 2. Second, we determine the variables and run python in order to obtain statistic\n",
    "\n",
    "sample_mean = 37.333333\n",
    "pop_mean = 29.681818\n",
    "pop_std = 4.687678\n",
    "n = 12\n",
    "statistic = (sample_mean - pop_mean)/(pop_std/math.sqrt(n))\n",
    "print(\"Statistic is: \", statistic)\n"
   ]
  },
  {
   "cell_type": "markdown",
   "metadata": {},
   "source": [
    "The Z-value is a test statistic for Z-tests that measures the difference between an observed statistic and its hypothesized population parameter in units of the standard deviation. Converting an observation to a Z-value is called standardization."
   ]
  },
  {
   "cell_type": "raw",
   "metadata": {},
   "source": [
    "Now that we have the z-test value, we need to choose which table: \n",
    "\n",
    "- 1 population + known population variance: We use STANDARD NORMAL TABLE\n",
    "- The z-table (http://www.z-table.com/)\n",
    "\n",
    "- We are going to do a 2 tail test, 95% confidence in a standard normal distribution, as it's 2 tail test it's 0.025 per tail\n",
    "- From the table we extract that our z score: 1.96"
   ]
  },
  {
   "cell_type": "raw",
   "metadata": {},
   "source": [
    "CONCLUSION: As z statistic (5.65) > z-score (1.96) it's in the rejection area, we REJECT our H0, we accept Ha:\n",
    "\n",
    "Ha: The sample mean and population mean are different."
   ]
  },
  {
   "cell_type": "raw",
   "metadata": {},
   "source": [
    "We conclude that there has been a significant increseament on the trends for tofu searches for the year 2018 compared to the rest of the years"
   ]
  },
  {
   "cell_type": "markdown",
   "metadata": {},
   "source": [
    "### Applying inferential statistics to evaluate our H0 - Test 2"
   ]
  },
  {
   "cell_type": "markdown",
   "metadata": {},
   "source": [
    "In this case, we will pick a random sample for our test, the rest remains the same"
   ]
  },
  {
   "cell_type": "markdown",
   "metadata": {},
   "source": [
    "#### Getting the random table"
   ]
  },
  {
   "cell_type": "code",
   "execution_count": 13,
   "metadata": {},
   "outputs": [],
   "source": [
    "tofu_random_sample = tofu_trends_population.sample(n = 12) "
   ]
  },
  {
   "cell_type": "raw",
   "metadata": {},
   "source": [
    "tofu_random_sample.describe()"
   ]
  },
  {
   "cell_type": "code",
   "execution_count": 14,
   "metadata": {},
   "outputs": [
    {
     "data": {
      "image/png": "[encoded data removed]",
      "text/plain": [
       "<IPython.core.display.Image object>"
      ]
     },
     "execution_count": 14,
     "metadata": {},
     "output_type": "execute_result"
    }
   ],
   "source": [
    "# We display the images that we got, for not losing them when runing again the code\n",
    "from IPython.display import Image\n",
    "Image(filename = r\"C:\\Users\\marcp\\Desktop\\Ironhack\\Clases\\FINAL PROJECT\\Project 2\\Images from Random\\Random_sample.png\")"
   ]
  },
  {
   "cell_type": "markdown",
   "metadata": {},
   "source": [
    "#### Population table"
   ]
  },
  {
   "cell_type": "code",
   "execution_count": 15,
   "metadata": {
    "scrolled": true
   },
   "outputs": [
    {
     "data": {
      "text/html": [
       "<div>\n",
       "<style scoped>\n",
       "    .dataframe tbody tr th:only-of-type {\n",
       "        vertical-align: middle;\n",
       "    }\n",
       "\n",
       "    .dataframe tbody tr th {\n",
       "        vertical-align: top;\n",
       "    }\n",
       "\n",
       "    .dataframe thead th {\n",
       "        text-align: right;\n",
       "    }\n",
       "</style>\n",
       "<table border=\"1\" class=\"dataframe\">\n",
       "  <thead>\n",
       "    <tr style=\"text-align: right;\">\n",
       "      <th></th>\n",
       "      <th>tofu</th>\n",
       "      <th>year</th>\n",
       "    </tr>\n",
       "  </thead>\n",
       "  <tbody>\n",
       "    <tr>\n",
       "      <th>count</th>\n",
       "      <td>132.000000</td>\n",
       "      <td>132.000000</td>\n",
       "    </tr>\n",
       "    <tr>\n",
       "      <th>mean</th>\n",
       "      <td>29.681818</td>\n",
       "      <td>2013.000000</td>\n",
       "    </tr>\n",
       "    <tr>\n",
       "      <th>std</th>\n",
       "      <td>4.687678</td>\n",
       "      <td>3.174324</td>\n",
       "    </tr>\n",
       "    <tr>\n",
       "      <th>min</th>\n",
       "      <td>19.000000</td>\n",
       "      <td>2008.000000</td>\n",
       "    </tr>\n",
       "    <tr>\n",
       "      <th>25%</th>\n",
       "      <td>26.000000</td>\n",
       "      <td>2010.000000</td>\n",
       "    </tr>\n",
       "    <tr>\n",
       "      <th>50%</th>\n",
       "      <td>29.000000</td>\n",
       "      <td>2013.000000</td>\n",
       "    </tr>\n",
       "    <tr>\n",
       "      <th>75%</th>\n",
       "      <td>33.000000</td>\n",
       "      <td>2016.000000</td>\n",
       "    </tr>\n",
       "    <tr>\n",
       "      <th>max</th>\n",
       "      <td>44.000000</td>\n",
       "      <td>2018.000000</td>\n",
       "    </tr>\n",
       "  </tbody>\n",
       "</table>\n",
       "</div>"
      ],
      "text/plain": [
       "             tofu         year\n",
       "count  132.000000   132.000000\n",
       "mean    29.681818  2013.000000\n",
       "std      4.687678     3.174324\n",
       "min     19.000000  2008.000000\n",
       "25%     26.000000  2010.000000\n",
       "50%     29.000000  2013.000000\n",
       "75%     33.000000  2016.000000\n",
       "max     44.000000  2018.000000"
      ]
     },
     "execution_count": 15,
     "metadata": {},
     "output_type": "execute_result"
    }
   ],
   "source": [
    "tofu_trends_population.describe()"
   ]
  },
  {
   "cell_type": "code",
   "execution_count": 16,
   "metadata": {},
   "outputs": [],
   "source": [
    "tofu_trends_population['date'] = pd.to_datetime(tofu_trends_population['date'])"
   ]
  },
  {
   "cell_type": "markdown",
   "metadata": {},
   "source": [
    "#### Inferential statistics Test-2"
   ]
  },
  {
   "cell_type": "raw",
   "metadata": {},
   "source": [
    "Hypothesis testing\n",
    "It is assumed that the mean is μ = 29.681818 and a std deviation = 4.687678. Sample of n = 12 with average of a mean  with a mean 27.750000\t and a standard deviation of 3.387812\t. Is the group significantly different (with respect to the population) from the regular population?\n",
    "\n",
    "STEPS:\n",
    "\n",
    "1. Set up the hypothesis test.\n",
    "2. Write down all the steps followed for setting up the test.\n",
    "3. Calculate the test statistic in Python. We will take a look at how to make decisions based on this calculated value.\n",
    "z=(𝑋¯−𝜇0)σ /𝑛√ \n",
    "where:\n",
    "\n",
    "𝑋¯  is the sample mean\n",
    "𝜇0  is the population mean\n",
    "σ   is the population standard deviation\n",
    "𝑛  is the number of measures in our sample"
   ]
  },
  {
   "cell_type": "raw",
   "metadata": {},
   "source": [
    "𝑋¯ = 27.750000\n",
    "𝜇0 = 29.681818\n",
    "σ = 4.687678\n",
    "n = 12"
   ]
  },
  {
   "cell_type": "markdown",
   "metadata": {},
   "source": [
    "1. Set up the hypothesis test:"
   ]
  },
  {
   "cell_type": "raw",
   "metadata": {},
   "source": [
    "H0 = Sample mean is equal to the population mean.\n",
    "Question = Is the group significantly different from the regular population ?\n",
    "We are going to do a 2 tail test, 97.5% confidence in a standard normal distribution"
   ]
  },
  {
   "cell_type": "markdown",
   "metadata": {},
   "source": [
    "2. Write down all the steps followed for setting up the test \n",
    "3. Calculate the statistic in Python"
   ]
  },
  {
   "cell_type": "code",
   "execution_count": 17,
   "metadata": {},
   "outputs": [
    {
     "name": "stdout",
     "output_type": "stream",
     "text": [
      "Statistic is:  1.8387174385605611\n"
     ]
    }
   ],
   "source": [
    "#1. Fisrt we import the library\n",
    "import math\n",
    "\n",
    "# 2. Second, we determine the variables and run python in order to obtain statistic\n",
    "\n",
    "sample_mean = 32.17\n",
    "pop_mean = 29.681818\n",
    "pop_std = 4.687678\n",
    "n = 12\n",
    "statistic = (sample_mean - pop_mean)/(pop_std/math.sqrt(n))\n",
    "print(\"Statistic is: \", statistic)\n"
   ]
  },
  {
   "cell_type": "markdown",
   "metadata": {},
   "source": [
    "The Z-value is a test statistic for Z-tests that measures the difference between an observed statistic and its hypothesized population parameter in units of the standard deviation. Converting an observation to a Z-value is called standardization."
   ]
  },
  {
   "cell_type": "raw",
   "metadata": {},
   "source": [
    "Now that we have the z-test value, we need to choose which table: \n",
    "\n",
    "- 1 population + known population variance: We use STANDARD NORMAL TABLE\n",
    "- The z-table (http://www.z-table.com/)\n",
    "\n",
    "- We are going to do a 2 tail test, 95% confidence in a standard normal distribution, as it's 2 tail test it's 0.025 per tail\n",
    "- From the table we extract that our z score: - 1.96 to 1.96"
   ]
  },
  {
   "cell_type": "raw",
   "metadata": {},
   "source": [
    "CONCLUSION: As z statistic (1.8387) <> z-score (- 1.96 to 1.96) it's outside the rejection area, we ACCEPT our H0, we can't accept Ha:\n",
    "\n",
    "Ha: The sample mean and population mean are different."
   ]
  },
  {
   "cell_type": "raw",
   "metadata": {},
   "source": [
    "We conclude that there has not been a significant increseament on the trends for tofu searches"
   ]
  },
  {
   "cell_type": "markdown",
   "metadata": {},
   "source": [
    "### Applying inferential statistics to evaluate our H0 - Test 3"
   ]
  },
  {
   "cell_type": "markdown",
   "metadata": {},
   "source": [
    "First, we pick a random entry per year"
   ]
  },
  {
   "cell_type": "code",
   "execution_count": 18,
   "metadata": {},
   "outputs": [],
   "source": [
    "size = 1       # sample size\n",
    "replace = True  # with replacement - Same item do not appear\n",
    "fn = lambda obj: obj.loc[np.random.choice(obj.index, size, replace),:]\n",
    "tofu_sample_year = tofu_trends_population.groupby('year', as_index=False).apply(fn)\n"
   ]
  },
  {
   "cell_type": "code",
   "execution_count": 19,
   "metadata": {},
   "outputs": [
    {
     "data": {
      "text/html": [
       "<div>\n",
       "<style scoped>\n",
       "    .dataframe tbody tr th:only-of-type {\n",
       "        vertical-align: middle;\n",
       "    }\n",
       "\n",
       "    .dataframe tbody tr th {\n",
       "        vertical-align: top;\n",
       "    }\n",
       "\n",
       "    .dataframe thead th {\n",
       "        text-align: right;\n",
       "    }\n",
       "</style>\n",
       "<table border=\"1\" class=\"dataframe\">\n",
       "  <thead>\n",
       "    <tr style=\"text-align: right;\">\n",
       "      <th></th>\n",
       "      <th>date</th>\n",
       "      <th>tofu</th>\n",
       "      <th>year</th>\n",
       "    </tr>\n",
       "  </thead>\n",
       "  <tbody>\n",
       "    <tr>\n",
       "      <th>0</th>\n",
       "      <td>2008-01-01</td>\n",
       "      <td>27</td>\n",
       "      <td>2008</td>\n",
       "    </tr>\n",
       "    <tr>\n",
       "      <th>1</th>\n",
       "      <td>2008-02-01</td>\n",
       "      <td>25</td>\n",
       "      <td>2008</td>\n",
       "    </tr>\n",
       "    <tr>\n",
       "      <th>2</th>\n",
       "      <td>2008-03-01</td>\n",
       "      <td>24</td>\n",
       "      <td>2008</td>\n",
       "    </tr>\n",
       "    <tr>\n",
       "      <th>3</th>\n",
       "      <td>2008-04-01</td>\n",
       "      <td>25</td>\n",
       "      <td>2008</td>\n",
       "    </tr>\n",
       "    <tr>\n",
       "      <th>4</th>\n",
       "      <td>2008-05-01</td>\n",
       "      <td>23</td>\n",
       "      <td>2008</td>\n",
       "    </tr>\n",
       "    <tr>\n",
       "      <th>...</th>\n",
       "      <td>...</td>\n",
       "      <td>...</td>\n",
       "      <td>...</td>\n",
       "    </tr>\n",
       "    <tr>\n",
       "      <th>127</th>\n",
       "      <td>2018-08-01</td>\n",
       "      <td>37</td>\n",
       "      <td>2018</td>\n",
       "    </tr>\n",
       "    <tr>\n",
       "      <th>128</th>\n",
       "      <td>2018-09-01</td>\n",
       "      <td>35</td>\n",
       "      <td>2018</td>\n",
       "    </tr>\n",
       "    <tr>\n",
       "      <th>129</th>\n",
       "      <td>2018-10-01</td>\n",
       "      <td>34</td>\n",
       "      <td>2018</td>\n",
       "    </tr>\n",
       "    <tr>\n",
       "      <th>130</th>\n",
       "      <td>2018-11-01</td>\n",
       "      <td>33</td>\n",
       "      <td>2018</td>\n",
       "    </tr>\n",
       "    <tr>\n",
       "      <th>131</th>\n",
       "      <td>2018-12-01</td>\n",
       "      <td>33</td>\n",
       "      <td>2018</td>\n",
       "    </tr>\n",
       "  </tbody>\n",
       "</table>\n",
       "<p>132 rows × 3 columns</p>\n",
       "</div>"
      ],
      "text/plain": [
       "          date  tofu  year\n",
       "0   2008-01-01    27  2008\n",
       "1   2008-02-01    25  2008\n",
       "2   2008-03-01    24  2008\n",
       "3   2008-04-01    25  2008\n",
       "4   2008-05-01    23  2008\n",
       "..         ...   ...   ...\n",
       "127 2018-08-01    37  2018\n",
       "128 2018-09-01    35  2018\n",
       "129 2018-10-01    34  2018\n",
       "130 2018-11-01    33  2018\n",
       "131 2018-12-01    33  2018\n",
       "\n",
       "[132 rows x 3 columns]"
      ]
     },
     "execution_count": 19,
     "metadata": {},
     "output_type": "execute_result"
    }
   ],
   "source": [
    "tofu_trends_population"
   ]
  },
  {
   "cell_type": "raw",
   "metadata": {},
   "source": [
    "tofu_sample_year"
   ]
  },
  {
   "cell_type": "raw",
   "metadata": {},
   "source": [
    "tofu_sample_year.describe()"
   ]
  },
  {
   "cell_type": "code",
   "execution_count": 20,
   "metadata": {},
   "outputs": [
    {
     "data": {
      "image/png": "[encoded data removed]",
      "text/plain": [
       "<IPython.core.display.Image object>"
      ]
     },
     "execution_count": 20,
     "metadata": {},
     "output_type": "execute_result"
    }
   ],
   "source": [
    "# We display the images that we got, for not losing them when runing again the code\n",
    "from IPython.display import Image\n",
    "Image(filename = r\"C:\\Users\\marcp\\Desktop\\Ironhack\\Clases\\FINAL PROJECT\\Project 2\\Images from Random\\Random_sample_per_year.png\")"
   ]
  },
  {
   "cell_type": "code",
   "execution_count": 21,
   "metadata": {
    "scrolled": true
   },
   "outputs": [
    {
     "data": {
      "text/html": [
       "<div>\n",
       "<style scoped>\n",
       "    .dataframe tbody tr th:only-of-type {\n",
       "        vertical-align: middle;\n",
       "    }\n",
       "\n",
       "    .dataframe tbody tr th {\n",
       "        vertical-align: top;\n",
       "    }\n",
       "\n",
       "    .dataframe thead th {\n",
       "        text-align: right;\n",
       "    }\n",
       "</style>\n",
       "<table border=\"1\" class=\"dataframe\">\n",
       "  <thead>\n",
       "    <tr style=\"text-align: right;\">\n",
       "      <th></th>\n",
       "      <th>tofu</th>\n",
       "      <th>year</th>\n",
       "    </tr>\n",
       "  </thead>\n",
       "  <tbody>\n",
       "    <tr>\n",
       "      <th>count</th>\n",
       "      <td>132.000000</td>\n",
       "      <td>132.000000</td>\n",
       "    </tr>\n",
       "    <tr>\n",
       "      <th>mean</th>\n",
       "      <td>29.681818</td>\n",
       "      <td>2013.000000</td>\n",
       "    </tr>\n",
       "    <tr>\n",
       "      <th>std</th>\n",
       "      <td>4.687678</td>\n",
       "      <td>3.174324</td>\n",
       "    </tr>\n",
       "    <tr>\n",
       "      <th>min</th>\n",
       "      <td>19.000000</td>\n",
       "      <td>2008.000000</td>\n",
       "    </tr>\n",
       "    <tr>\n",
       "      <th>25%</th>\n",
       "      <td>26.000000</td>\n",
       "      <td>2010.000000</td>\n",
       "    </tr>\n",
       "    <tr>\n",
       "      <th>50%</th>\n",
       "      <td>29.000000</td>\n",
       "      <td>2013.000000</td>\n",
       "    </tr>\n",
       "    <tr>\n",
       "      <th>75%</th>\n",
       "      <td>33.000000</td>\n",
       "      <td>2016.000000</td>\n",
       "    </tr>\n",
       "    <tr>\n",
       "      <th>max</th>\n",
       "      <td>44.000000</td>\n",
       "      <td>2018.000000</td>\n",
       "    </tr>\n",
       "  </tbody>\n",
       "</table>\n",
       "</div>"
      ],
      "text/plain": [
       "             tofu         year\n",
       "count  132.000000   132.000000\n",
       "mean    29.681818  2013.000000\n",
       "std      4.687678     3.174324\n",
       "min     19.000000  2008.000000\n",
       "25%     26.000000  2010.000000\n",
       "50%     29.000000  2013.000000\n",
       "75%     33.000000  2016.000000\n",
       "max     44.000000  2018.000000"
      ]
     },
     "execution_count": 21,
     "metadata": {},
     "output_type": "execute_result"
    }
   ],
   "source": [
    "tofu_trends_population.describe()"
   ]
  },
  {
   "cell_type": "markdown",
   "metadata": {},
   "source": [
    "1. Set up the hypothesis test:"
   ]
  },
  {
   "cell_type": "raw",
   "metadata": {},
   "source": [
    "H0 = Sample mean is equal to the population mean.\n",
    "Question = Is the group significantly different from the regular population ?\n",
    "We are going to do a 2 tail test, 97.5% confidence in a standard normal distribution"
   ]
  },
  {
   "cell_type": "markdown",
   "metadata": {},
   "source": [
    "2. Write down all the steps followed for setting up the test \n",
    "3. Calculate the statistic in Python"
   ]
  },
  {
   "cell_type": "code",
   "execution_count": 22,
   "metadata": {},
   "outputs": [
    {
     "name": "stdout",
     "output_type": "stream",
     "text": [
      "Statistic is:  -0.16795026586237446\n"
     ]
    }
   ],
   "source": [
    "#1. Fisrt we import the library\n",
    "import math\n",
    "\n",
    "# 2. Second, we determine the variables and run python in order to obtain statistic\n",
    "\n",
    "sample_mean = 29.454545\n",
    "pop_mean = 29.681818\n",
    "pop_std = 4.687678\n",
    "n = 12\n",
    "statistic = (sample_mean - pop_mean)/(pop_std/math.sqrt(n))\n",
    "print(\"Statistic is: \", statistic)\n"
   ]
  },
  {
   "cell_type": "markdown",
   "metadata": {},
   "source": [
    "The Z-value is a test statistic for Z-tests that measures the difference between an observed statistic and its hypothesized population parameter in units of the standard deviation. Converting an observation to a Z-value is called standardization."
   ]
  },
  {
   "cell_type": "markdown",
   "metadata": {},
   "source": [
    "#### Inferential statistics Test-3"
   ]
  },
  {
   "cell_type": "raw",
   "metadata": {},
   "source": [
    "Now that we have the z-test value, we need to choose which table: \n",
    "\n",
    "- 1 population + known population variance: We use STANDARD NORMAL TABLE\n",
    "- The z-table (http://www.z-table.com/)\n",
    "\n",
    "- We are going to do a 2 tail test, 95% confidence in a standard normal distribution, as it's 2 tail test it's 0.025 per tail\n",
    "- From the table we extract that our z score: 1.96"
   ]
  },
  {
   "cell_type": "raw",
   "metadata": {},
   "source": [
    "CONCLUSION: As z statistic (-0,16) <> z-score (- 1.96 to 1.96) it's in the rejection area, we NOT REJECT our H0, we CAN'T ACCEPT Ha:\n",
    "\n",
    "Ha: The sample mean and population mean are different."
   ]
  },
  {
   "cell_type": "raw",
   "metadata": {},
   "source": [
    "We conclude that there has not been a significant increseament on the trends for tofu searches"
   ]
  },
  {
   "cell_type": "markdown",
   "metadata": {},
   "source": [
    "### Visualize our data"
   ]
  },
  {
   "cell_type": "code",
   "execution_count": 23,
   "metadata": {},
   "outputs": [
    {
     "data": {
      "text/html": [
       "<div>\n",
       "<style scoped>\n",
       "    .dataframe tbody tr th:only-of-type {\n",
       "        vertical-align: middle;\n",
       "    }\n",
       "\n",
       "    .dataframe tbody tr th {\n",
       "        vertical-align: top;\n",
       "    }\n",
       "\n",
       "    .dataframe thead th {\n",
       "        text-align: right;\n",
       "    }\n",
       "</style>\n",
       "<table border=\"1\" class=\"dataframe\">\n",
       "  <thead>\n",
       "    <tr style=\"text-align: right;\">\n",
       "      <th></th>\n",
       "      <th>date</th>\n",
       "      <th>tofu</th>\n",
       "      <th>year</th>\n",
       "    </tr>\n",
       "  </thead>\n",
       "  <tbody>\n",
       "    <tr>\n",
       "      <th>0</th>\n",
       "      <td>2008-01-01</td>\n",
       "      <td>27</td>\n",
       "      <td>2008</td>\n",
       "    </tr>\n",
       "    <tr>\n",
       "      <th>1</th>\n",
       "      <td>2008-02-01</td>\n",
       "      <td>25</td>\n",
       "      <td>2008</td>\n",
       "    </tr>\n",
       "    <tr>\n",
       "      <th>2</th>\n",
       "      <td>2008-03-01</td>\n",
       "      <td>24</td>\n",
       "      <td>2008</td>\n",
       "    </tr>\n",
       "    <tr>\n",
       "      <th>3</th>\n",
       "      <td>2008-04-01</td>\n",
       "      <td>25</td>\n",
       "      <td>2008</td>\n",
       "    </tr>\n",
       "    <tr>\n",
       "      <th>4</th>\n",
       "      <td>2008-05-01</td>\n",
       "      <td>23</td>\n",
       "      <td>2008</td>\n",
       "    </tr>\n",
       "    <tr>\n",
       "      <th>...</th>\n",
       "      <td>...</td>\n",
       "      <td>...</td>\n",
       "      <td>...</td>\n",
       "    </tr>\n",
       "    <tr>\n",
       "      <th>127</th>\n",
       "      <td>2018-08-01</td>\n",
       "      <td>37</td>\n",
       "      <td>2018</td>\n",
       "    </tr>\n",
       "    <tr>\n",
       "      <th>128</th>\n",
       "      <td>2018-09-01</td>\n",
       "      <td>35</td>\n",
       "      <td>2018</td>\n",
       "    </tr>\n",
       "    <tr>\n",
       "      <th>129</th>\n",
       "      <td>2018-10-01</td>\n",
       "      <td>34</td>\n",
       "      <td>2018</td>\n",
       "    </tr>\n",
       "    <tr>\n",
       "      <th>130</th>\n",
       "      <td>2018-11-01</td>\n",
       "      <td>33</td>\n",
       "      <td>2018</td>\n",
       "    </tr>\n",
       "    <tr>\n",
       "      <th>131</th>\n",
       "      <td>2018-12-01</td>\n",
       "      <td>33</td>\n",
       "      <td>2018</td>\n",
       "    </tr>\n",
       "  </tbody>\n",
       "</table>\n",
       "<p>132 rows × 3 columns</p>\n",
       "</div>"
      ],
      "text/plain": [
       "          date  tofu  year\n",
       "0   2008-01-01    27  2008\n",
       "1   2008-02-01    25  2008\n",
       "2   2008-03-01    24  2008\n",
       "3   2008-04-01    25  2008\n",
       "4   2008-05-01    23  2008\n",
       "..         ...   ...   ...\n",
       "127 2018-08-01    37  2018\n",
       "128 2018-09-01    35  2018\n",
       "129 2018-10-01    34  2018\n",
       "130 2018-11-01    33  2018\n",
       "131 2018-12-01    33  2018\n",
       "\n",
       "[132 rows x 3 columns]"
      ]
     },
     "execution_count": 23,
     "metadata": {},
     "output_type": "execute_result"
    }
   ],
   "source": [
    "tofu_trends_population"
   ]
  },
  {
   "cell_type": "code",
   "execution_count": 24,
   "metadata": {},
   "outputs": [
    {
     "data": {
      "text/plain": [
       "Text(0.5, 1.0, 'Tofu Trends Population distributed')"
      ]
     },
     "execution_count": 24,
     "metadata": {},
     "output_type": "execute_result"
    },
    {
     "data": {
      "image/png": "[encoded data removed]",
      "text/plain": [
       "<Figure size 432x288 with 1 Axes>"
      ]
     },
     "metadata": {
      "needs_background": "light"
     },
     "output_type": "display_data"
    }
   ],
   "source": [
    "tofu_trends_population['tofu'].hist(bins=70)\n",
    "plt.title(\"Tofu Trends Population distributed\")\n",
    "# Normalized distributed"
   ]
  },
  {
   "cell_type": "markdown",
   "metadata": {},
   "source": [
    "### Applying inferential statistics to evaluate our H0 - Test 4 (mean 2017)"
   ]
  },
  {
   "cell_type": "markdown",
   "metadata": {},
   "source": [
    "As we obtained trend information regarding tofu, we can analyze our main question and Hypothesis\n",
    "\n",
    "Hypothesis: Between the years of 2009 and 2018 the number of mentions of tofu recipes increased significantly\n",
    "\n",
    "H0: mean 2017 sample = mean population\n",
    "\n",
    "Question = Is the group significantly different from the regular population ?"
   ]
  },
  {
   "cell_type": "markdown",
   "metadata": {},
   "source": [
    "#### Population table"
   ]
  },
  {
   "cell_type": "code",
   "execution_count": 31,
   "metadata": {
    "scrolled": true
   },
   "outputs": [
    {
     "data": {
      "text/html": [
       "<div>\n",
       "<style scoped>\n",
       "    .dataframe tbody tr th:only-of-type {\n",
       "        vertical-align: middle;\n",
       "    }\n",
       "\n",
       "    .dataframe tbody tr th {\n",
       "        vertical-align: top;\n",
       "    }\n",
       "\n",
       "    .dataframe thead th {\n",
       "        text-align: right;\n",
       "    }\n",
       "</style>\n",
       "<table border=\"1\" class=\"dataframe\">\n",
       "  <thead>\n",
       "    <tr style=\"text-align: right;\">\n",
       "      <th></th>\n",
       "      <th>tofu</th>\n",
       "    </tr>\n",
       "  </thead>\n",
       "  <tbody>\n",
       "    <tr>\n",
       "      <th>count</th>\n",
       "      <td>132.000000</td>\n",
       "    </tr>\n",
       "    <tr>\n",
       "      <th>mean</th>\n",
       "      <td>29.681818</td>\n",
       "    </tr>\n",
       "    <tr>\n",
       "      <th>std</th>\n",
       "      <td>4.687678</td>\n",
       "    </tr>\n",
       "    <tr>\n",
       "      <th>min</th>\n",
       "      <td>19.000000</td>\n",
       "    </tr>\n",
       "    <tr>\n",
       "      <th>25%</th>\n",
       "      <td>26.000000</td>\n",
       "    </tr>\n",
       "    <tr>\n",
       "      <th>50%</th>\n",
       "      <td>29.000000</td>\n",
       "    </tr>\n",
       "    <tr>\n",
       "      <th>75%</th>\n",
       "      <td>33.000000</td>\n",
       "    </tr>\n",
       "    <tr>\n",
       "      <th>max</th>\n",
       "      <td>44.000000</td>\n",
       "    </tr>\n",
       "  </tbody>\n",
       "</table>\n",
       "</div>"
      ],
      "text/plain": [
       "             tofu\n",
       "count  132.000000\n",
       "mean    29.681818\n",
       "std      4.687678\n",
       "min     19.000000\n",
       "25%     26.000000\n",
       "50%     29.000000\n",
       "75%     33.000000\n",
       "max     44.000000"
      ]
     },
     "execution_count": 31,
     "metadata": {},
     "output_type": "execute_result"
    }
   ],
   "source": [
    "tofu_trends_population.describe()"
   ]
  },
  {
   "cell_type": "code",
   "execution_count": 34,
   "metadata": {},
   "outputs": [],
   "source": [
    "tofu_trends_population['date'] = pd.to_datetime(tofu_trends_population['date'])"
   ]
  },
  {
   "cell_type": "code",
   "execution_count": 35,
   "metadata": {},
   "outputs": [],
   "source": [
    "# Add year column\n",
    "tofu_trends_population['year'] = tofu_trends_population['date'].dt.year"
   ]
  },
  {
   "cell_type": "code",
   "execution_count": 36,
   "metadata": {
    "scrolled": true
   },
   "outputs": [
    {
     "data": {
      "text/html": [
       "<div>\n",
       "<style scoped>\n",
       "    .dataframe tbody tr th:only-of-type {\n",
       "        vertical-align: middle;\n",
       "    }\n",
       "\n",
       "    .dataframe tbody tr th {\n",
       "        vertical-align: top;\n",
       "    }\n",
       "\n",
       "    .dataframe thead th {\n",
       "        text-align: right;\n",
       "    }\n",
       "</style>\n",
       "<table border=\"1\" class=\"dataframe\">\n",
       "  <thead>\n",
       "    <tr style=\"text-align: right;\">\n",
       "      <th></th>\n",
       "      <th>date</th>\n",
       "      <th>tofu</th>\n",
       "      <th>year</th>\n",
       "    </tr>\n",
       "  </thead>\n",
       "  <tbody>\n",
       "    <tr>\n",
       "      <th>0</th>\n",
       "      <td>2008-01-01</td>\n",
       "      <td>27</td>\n",
       "      <td>2008</td>\n",
       "    </tr>\n",
       "    <tr>\n",
       "      <th>1</th>\n",
       "      <td>2008-02-01</td>\n",
       "      <td>25</td>\n",
       "      <td>2008</td>\n",
       "    </tr>\n",
       "    <tr>\n",
       "      <th>2</th>\n",
       "      <td>2008-03-01</td>\n",
       "      <td>24</td>\n",
       "      <td>2008</td>\n",
       "    </tr>\n",
       "    <tr>\n",
       "      <th>3</th>\n",
       "      <td>2008-04-01</td>\n",
       "      <td>25</td>\n",
       "      <td>2008</td>\n",
       "    </tr>\n",
       "    <tr>\n",
       "      <th>4</th>\n",
       "      <td>2008-05-01</td>\n",
       "      <td>23</td>\n",
       "      <td>2008</td>\n",
       "    </tr>\n",
       "    <tr>\n",
       "      <th>...</th>\n",
       "      <td>...</td>\n",
       "      <td>...</td>\n",
       "      <td>...</td>\n",
       "    </tr>\n",
       "    <tr>\n",
       "      <th>127</th>\n",
       "      <td>2018-08-01</td>\n",
       "      <td>37</td>\n",
       "      <td>2018</td>\n",
       "    </tr>\n",
       "    <tr>\n",
       "      <th>128</th>\n",
       "      <td>2018-09-01</td>\n",
       "      <td>35</td>\n",
       "      <td>2018</td>\n",
       "    </tr>\n",
       "    <tr>\n",
       "      <th>129</th>\n",
       "      <td>2018-10-01</td>\n",
       "      <td>34</td>\n",
       "      <td>2018</td>\n",
       "    </tr>\n",
       "    <tr>\n",
       "      <th>130</th>\n",
       "      <td>2018-11-01</td>\n",
       "      <td>33</td>\n",
       "      <td>2018</td>\n",
       "    </tr>\n",
       "    <tr>\n",
       "      <th>131</th>\n",
       "      <td>2018-12-01</td>\n",
       "      <td>33</td>\n",
       "      <td>2018</td>\n",
       "    </tr>\n",
       "  </tbody>\n",
       "</table>\n",
       "<p>132 rows × 3 columns</p>\n",
       "</div>"
      ],
      "text/plain": [
       "          date  tofu  year\n",
       "0   2008-01-01    27  2008\n",
       "1   2008-02-01    25  2008\n",
       "2   2008-03-01    24  2008\n",
       "3   2008-04-01    25  2008\n",
       "4   2008-05-01    23  2008\n",
       "..         ...   ...   ...\n",
       "127 2018-08-01    37  2018\n",
       "128 2018-09-01    35  2018\n",
       "129 2018-10-01    34  2018\n",
       "130 2018-11-01    33  2018\n",
       "131 2018-12-01    33  2018\n",
       "\n",
       "[132 rows x 3 columns]"
      ]
     },
     "execution_count": 36,
     "metadata": {},
     "output_type": "execute_result"
    }
   ],
   "source": [
    "tofu_trends_population"
   ]
  },
  {
   "cell_type": "markdown",
   "metadata": {},
   "source": [
    "#### Sample table 2017"
   ]
  },
  {
   "cell_type": "code",
   "execution_count": 8,
   "metadata": {},
   "outputs": [],
   "source": [
    "tofu_trends_sample = tofu_trends_population"
   ]
  },
  {
   "cell_type": "code",
   "execution_count": 39,
   "metadata": {},
   "outputs": [],
   "source": [
    "from_year, to_year = '2016-12-31','2017-12-31'\n",
    "tofu_trends_sample['date'] = tofu_trends_sample['date'].apply(lambda x: x.tz_localize(None))\n",
    "tofu_trends_sample = tofu_trends_sample.loc[tofu_trends_sample['date'].between(from_year, to_year, inclusive=False)]"
   ]
  },
  {
   "cell_type": "code",
   "execution_count": 40,
   "metadata": {
    "scrolled": true
   },
   "outputs": [
    {
     "data": {
      "text/html": [
       "<div>\n",
       "<style scoped>\n",
       "    .dataframe tbody tr th:only-of-type {\n",
       "        vertical-align: middle;\n",
       "    }\n",
       "\n",
       "    .dataframe tbody tr th {\n",
       "        vertical-align: top;\n",
       "    }\n",
       "\n",
       "    .dataframe thead th {\n",
       "        text-align: right;\n",
       "    }\n",
       "</style>\n",
       "<table border=\"1\" class=\"dataframe\">\n",
       "  <thead>\n",
       "    <tr style=\"text-align: right;\">\n",
       "      <th></th>\n",
       "      <th>date</th>\n",
       "      <th>tofu</th>\n",
       "      <th>year</th>\n",
       "    </tr>\n",
       "  </thead>\n",
       "  <tbody>\n",
       "    <tr>\n",
       "      <th>108</th>\n",
       "      <td>2017-01-01</td>\n",
       "      <td>36</td>\n",
       "      <td>2017</td>\n",
       "    </tr>\n",
       "    <tr>\n",
       "      <th>109</th>\n",
       "      <td>2017-02-01</td>\n",
       "      <td>34</td>\n",
       "      <td>2017</td>\n",
       "    </tr>\n",
       "    <tr>\n",
       "      <th>110</th>\n",
       "      <td>2017-03-01</td>\n",
       "      <td>34</td>\n",
       "      <td>2017</td>\n",
       "    </tr>\n",
       "    <tr>\n",
       "      <th>111</th>\n",
       "      <td>2017-04-01</td>\n",
       "      <td>32</td>\n",
       "      <td>2017</td>\n",
       "    </tr>\n",
       "    <tr>\n",
       "      <th>112</th>\n",
       "      <td>2017-05-01</td>\n",
       "      <td>31</td>\n",
       "      <td>2017</td>\n",
       "    </tr>\n",
       "    <tr>\n",
       "      <th>113</th>\n",
       "      <td>2017-06-01</td>\n",
       "      <td>32</td>\n",
       "      <td>2017</td>\n",
       "    </tr>\n",
       "    <tr>\n",
       "      <th>114</th>\n",
       "      <td>2017-07-01</td>\n",
       "      <td>39</td>\n",
       "      <td>2017</td>\n",
       "    </tr>\n",
       "    <tr>\n",
       "      <th>115</th>\n",
       "      <td>2017-08-01</td>\n",
       "      <td>39</td>\n",
       "      <td>2017</td>\n",
       "    </tr>\n",
       "    <tr>\n",
       "      <th>116</th>\n",
       "      <td>2017-09-01</td>\n",
       "      <td>36</td>\n",
       "      <td>2017</td>\n",
       "    </tr>\n",
       "    <tr>\n",
       "      <th>117</th>\n",
       "      <td>2017-10-01</td>\n",
       "      <td>34</td>\n",
       "      <td>2017</td>\n",
       "    </tr>\n",
       "    <tr>\n",
       "      <th>118</th>\n",
       "      <td>2017-11-01</td>\n",
       "      <td>33</td>\n",
       "      <td>2017</td>\n",
       "    </tr>\n",
       "    <tr>\n",
       "      <th>119</th>\n",
       "      <td>2017-12-01</td>\n",
       "      <td>32</td>\n",
       "      <td>2017</td>\n",
       "    </tr>\n",
       "  </tbody>\n",
       "</table>\n",
       "</div>"
      ],
      "text/plain": [
       "          date  tofu  year\n",
       "108 2017-01-01    36  2017\n",
       "109 2017-02-01    34  2017\n",
       "110 2017-03-01    34  2017\n",
       "111 2017-04-01    32  2017\n",
       "112 2017-05-01    31  2017\n",
       "113 2017-06-01    32  2017\n",
       "114 2017-07-01    39  2017\n",
       "115 2017-08-01    39  2017\n",
       "116 2017-09-01    36  2017\n",
       "117 2017-10-01    34  2017\n",
       "118 2017-11-01    33  2017\n",
       "119 2017-12-01    32  2017"
      ]
     },
     "execution_count": 40,
     "metadata": {},
     "output_type": "execute_result"
    }
   ],
   "source": [
    "tofu_trends_sample"
   ]
  },
  {
   "cell_type": "markdown",
   "metadata": {},
   "source": [
    "Our first sample is the population of 2017"
   ]
  },
  {
   "cell_type": "code",
   "execution_count": 41,
   "metadata": {
    "scrolled": true
   },
   "outputs": [
    {
     "data": {
      "text/html": [
       "<div>\n",
       "<style scoped>\n",
       "    .dataframe tbody tr th:only-of-type {\n",
       "        vertical-align: middle;\n",
       "    }\n",
       "\n",
       "    .dataframe tbody tr th {\n",
       "        vertical-align: top;\n",
       "    }\n",
       "\n",
       "    .dataframe thead th {\n",
       "        text-align: right;\n",
       "    }\n",
       "</style>\n",
       "<table border=\"1\" class=\"dataframe\">\n",
       "  <thead>\n",
       "    <tr style=\"text-align: right;\">\n",
       "      <th></th>\n",
       "      <th>tofu</th>\n",
       "      <th>year</th>\n",
       "    </tr>\n",
       "  </thead>\n",
       "  <tbody>\n",
       "    <tr>\n",
       "      <th>count</th>\n",
       "      <td>12.000000</td>\n",
       "      <td>12.0</td>\n",
       "    </tr>\n",
       "    <tr>\n",
       "      <th>mean</th>\n",
       "      <td>34.333333</td>\n",
       "      <td>2017.0</td>\n",
       "    </tr>\n",
       "    <tr>\n",
       "      <th>std</th>\n",
       "      <td>2.674232</td>\n",
       "      <td>0.0</td>\n",
       "    </tr>\n",
       "    <tr>\n",
       "      <th>min</th>\n",
       "      <td>31.000000</td>\n",
       "      <td>2017.0</td>\n",
       "    </tr>\n",
       "    <tr>\n",
       "      <th>25%</th>\n",
       "      <td>32.000000</td>\n",
       "      <td>2017.0</td>\n",
       "    </tr>\n",
       "    <tr>\n",
       "      <th>50%</th>\n",
       "      <td>34.000000</td>\n",
       "      <td>2017.0</td>\n",
       "    </tr>\n",
       "    <tr>\n",
       "      <th>75%</th>\n",
       "      <td>36.000000</td>\n",
       "      <td>2017.0</td>\n",
       "    </tr>\n",
       "    <tr>\n",
       "      <th>max</th>\n",
       "      <td>39.000000</td>\n",
       "      <td>2017.0</td>\n",
       "    </tr>\n",
       "  </tbody>\n",
       "</table>\n",
       "</div>"
      ],
      "text/plain": [
       "            tofu    year\n",
       "count  12.000000    12.0\n",
       "mean   34.333333  2017.0\n",
       "std     2.674232     0.0\n",
       "min    31.000000  2017.0\n",
       "25%    32.000000  2017.0\n",
       "50%    34.000000  2017.0\n",
       "75%    36.000000  2017.0\n",
       "max    39.000000  2017.0"
      ]
     },
     "execution_count": 41,
     "metadata": {},
     "output_type": "execute_result"
    }
   ],
   "source": [
    "tofu_trends_sample.describe()"
   ]
  },
  {
   "cell_type": "markdown",
   "metadata": {},
   "source": [
    "#### Inferential statistics Test-1"
   ]
  },
  {
   "cell_type": "raw",
   "metadata": {},
   "source": [
    "Hypothesis testing\n",
    "It is assumed that the mean is μ = 29.681818 and a std deviation = 4.687678. Sample of n = 12 with average of a mean  with a mean 34.33\t and a standard deviation of 2.67. Is the group significantly different (with respect to the population) from the regular population?\n",
    "\n",
    "STEPS:\n",
    "\n",
    "1. Set up the hypothesis test.\n",
    "2. Write down all the steps followed for setting up the test.\n",
    "3. Calculate the test statistic in Python. We will take a look at how to make decisions based on this calculated value.\n",
    "z=(𝑋¯−𝜇0)σ /𝑛√ \n",
    "where:\n",
    "\n",
    "𝑋¯  is the sample mean\n",
    "𝜇0  is the population mean\n",
    "σ   is the population standard deviation\n",
    "𝑛  is the number of measures in our sample"
   ]
  },
  {
   "cell_type": "raw",
   "metadata": {},
   "source": [
    "𝑋¯ = 34.33\n",
    "𝜇0 = 29.681818\n",
    "σ = 4.687678\n",
    "n = 12"
   ]
  },
  {
   "cell_type": "markdown",
   "metadata": {},
   "source": [
    "1. Set up the hypothesis test:"
   ]
  },
  {
   "cell_type": "raw",
   "metadata": {},
   "source": [
    "H0 = Sample mean is equal to the population mean.\n",
    "Question = Is the group significantly different from the regular population ?\n",
    "We are going to do a 2 tail test, 97.5% confidence in a standard normal distribution"
   ]
  },
  {
   "cell_type": "markdown",
   "metadata": {},
   "source": [
    "2. Write down all the steps followed for setting up the test \n",
    "3. Calculate the statistic in Python"
   ]
  },
  {
   "cell_type": "code",
   "execution_count": 42,
   "metadata": {},
   "outputs": [
    {
     "name": "stdout",
     "output_type": "stream",
     "text": [
      "Statistic is:  3.43491484987967\n"
     ]
    }
   ],
   "source": [
    "#1. Fisrt we import the library\n",
    "import math\n",
    "\n",
    "# 2. Second, we determine the variables and run python in order to obtain statistic\n",
    "\n",
    "sample_mean = 34.33\n",
    "pop_mean = 29.681818\n",
    "pop_std = 4.687678\n",
    "n = 12\n",
    "statistic = (sample_mean - pop_mean)/(pop_std/math.sqrt(n))\n",
    "print(\"Statistic is: \", statistic)\n"
   ]
  },
  {
   "cell_type": "markdown",
   "metadata": {},
   "source": [
    "The Z-value is a test statistic for Z-tests that measures the difference between an observed statistic and its hypothesized population parameter in units of the standard deviation. Converting an observation to a Z-value is called standardization."
   ]
  },
  {
   "cell_type": "raw",
   "metadata": {},
   "source": [
    "Now that we have the z-test value, we need to choose which table: \n",
    "\n",
    "- 1 population + known population variance: We use STANDARD NORMAL TABLE\n",
    "- The z-table (http://www.z-table.com/)\n",
    "\n",
    "- We are going to do a 2 tail test, 95% confidence in a standard normal distribution, as it's 2 tail test it's 0.025 per tail\n",
    "- From the table we extract that our z score: 1.96"
   ]
  },
  {
   "cell_type": "raw",
   "metadata": {},
   "source": [
    "CONCLUSION: As z statistic (3.43) > z-score (1.96) it's in the rejection area, we REJECT our H0, we accept Ha:\n",
    "\n",
    "Ha: The sample mean and population mean are different."
   ]
  },
  {
   "cell_type": "raw",
   "metadata": {},
   "source": [
    "We conclude that there has been a significant increseament on the trends for tofu searches for the year 2017 compared to the rest of the years"
   ]
  }
 ],
 "metadata": {
  "kernelspec": {
   "display_name": "Python 3",
   "language": "python",
   "name": "python3"
  },
  "language_info": {
   "codemirror_mode": {
    "name": "ipython",
    "version": 3
   },
   "file_extension": ".py",
   "mimetype": "text/x-python",
   "name": "python",
   "nbconvert_exporter": "python",
   "pygments_lexer": "ipython3",
   "version": "3.8.3"
  }
 },
 "nbformat": 4,
 "nbformat_minor": 4
}
